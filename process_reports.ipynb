{
  "cells": [
    {
      "cell_type": "markdown",
      "source": [
        "# 🌍 ESG & Financial Intelligence Platform\n",
        "## AI-Powered Analysis of Corporate Reports\n",
        "\n",
        "**🎯 What this does:**\n",
        "- Automatically processes PDF reports from Google Cloud Storage\n",
        "- Uses Gemini 2.5 Pro to extract financial & ESG metrics\n",
        "- Generates forecasts using Google's TimesFM 2.0 model\n",
        "- Analyzes companies: Amgen, Novartis, Target\n",
        "\n",
        "**📊 Features:**\n",
        "- ✅ Automated PDF processing from Cloud Storage\n",
        "- ✅ AI-powered data extraction (Financial + ESG metrics)\n",
        "- ✅ Revenue forecasting with TimesFM 2.0\n",
        "- ✅ Multi-company comparative analysis\n",
        "\n",
        "---\n",
        "**👆 Click \"Runtime\" → \"Run all\" to see the magic happen!**"
      ],
      "metadata": {
        "id": "B4mF9BKbVXq9"
      },
      "id": "B4mF9BKbVXq9"
    },
    {
      "cell_type": "code",
      "source": [
        "# 🚀 Setup & Authentication\n",
        "print(\"🌟 Welcome to the ESG & Financial Intelligence Platform!\")\n",
        "print(\"🔧 Setting up environment...\")\n",
        "\n",
        "# Authenticate with Google Cloud\n",
        "from google.colab import auth\n",
        "auth.authenticate_user()\n",
        "\n",
        "# Install required packages\n",
        "!pip install -q bigframes google-cloud-bigquery plotly seaborn\n",
        "\n",
        "# Import libraries\n",
        "import bigframes.pandas as bpd\n",
        "from google.cloud import bigquery\n",
        "import pandas as pd\n",
        "import plotly.express as px\n",
        "import plotly.graph_objects as go\n",
        "from plotly.subplots import make_subplots\n",
        "import seaborn as sns\n",
        "import matplotlib.pyplot as plt\n",
        "\n",
        "print(\"✅ Authentication complete!\")\n",
        "print(\"✅ Libraries installed!\")"
      ],
      "metadata": {
        "id": "MsdBozKaVcBV",
        "outputId": "ba4cf7e0-b565-4afb-9a77-8cade4a49ab0",
        "colab": {
          "base_uri": "https://localhost:8080/"
        }
      },
      "id": "MsdBozKaVcBV",
      "execution_count": 1,
      "outputs": [
        {
          "output_type": "stream",
          "name": "stdout",
          "text": [
            "🌟 Welcome to the ESG & Financial Intelligence Platform!\n",
            "🔧 Setting up environment...\n",
            "\u001b[2K   \u001b[90m━━━━━━━━━━━━━━━━━━━━━━━━━━━━━━━━━━━━━━━━\u001b[0m \u001b[32m1.6/1.6 MB\u001b[0m \u001b[31m51.6 MB/s\u001b[0m eta \u001b[36m0:00:00\u001b[0m\n",
            "\u001b[?25h✅ Authentication complete!\n",
            "✅ Libraries installed!\n"
          ]
        }
      ]
    },
    {
      "cell_type": "code",
      "source": [
        "\n"
      ],
      "metadata": {
        "id": "Bv02mor5A2Ko",
        "outputId": "b388cc27-6ea2-4a0d-8de9-85c297b7f39c",
        "colab": {
          "base_uri": "https://localhost:8080/"
        }
      },
      "id": "Bv02mor5A2Ko",
      "execution_count": 4,
      "outputs": [
        {
          "output_type": "stream",
          "name": "stdout",
          "text": [
            "You have encountered a bug in the BigQuery CLI. Please file a bug report in our\n",
            "public issue tracker:\n",
            "https://issuetracker.google.com/issues/new?component=187149&template=0\n",
            "Please include a brief description of the steps that led to this issue, as well\n",
            "as any rows that can be made public from the following information:\n",
            "\n",
            "========================================\n",
            "== Platform ==\n",
            "  CPython:3.12.11:Linux-6.1.123+-x86_64-with-glibc2.35\n",
            "== bq version ==\n",
            "  2.1.22\n",
            "== Command line ==\n",
            "  ['/tools/google-cloud-sdk/platform/bq/bq.py', '--use_gce_service_account', 'mk', '--connection', '--connection_type=CLOUD_RESOURCE', '--location=us', 'test_connection']\n",
            "== UTC timestamp ==\n",
            "  2025-09-09 10:29:02\n",
            "== Error trace ==\n",
            "Traceback (most recent call last):\n",
            "  File \"/tools/google-cloud-sdk/platform/bq/frontend/bigquery_command.py\", line 280, in RunSafely\n",
            "    return_value = self.RunWithArgs(*args, **kwds)\n",
            "                   ^^^^^^^^^^^^^^^^^^^^^^^^^^^^^^^\n",
            "  File \"/tools/google-cloud-sdk/platform/bq/frontend/command_make.py\", line 1250, in RunWithArgs\n",
            "    created_connection = client_connection.CreateConnection(\n",
            "                         ^^^^^^^^^^^^^^^^^^^^^^^^^^^^^^^^^^^\n",
            "  File \"/tools/google-cloud-sdk/platform/bq/clients/client_connection.py\", line 131, in CreateConnection\n",
            "    .create(parent=parent, connectionId=connection_id, body=connection)\n",
            "     ^^^^^^^^^^^^^^^^^^^^^^^^^^^^^^^^^^^^^^^^^^^^^^^^^^^^^^^^^^^^^^^^^^\n",
            "  File \"/tools/google-cloud-sdk/platform/bq/third_party/googleapiclient/discovery.py\", line 1106, in method\n",
            "    raise TypeError(\n",
            "TypeError: Parameter \"parent\" value \"projects//locations/us\" does not match the pattern \"^projects/[^/]+/locations/[^/]+$\"\n",
            "\n",
            "========================================\n",
            "\n",
            "Unexpected exception in mk operation: You have encountered a bug in the BigQuery\n",
            "CLI. Please file a bug report in our\n",
            "public issue tracker:\n",
            "https://issuetracker.google.com/issues/new?component=187149&template=0\n",
            "Please include a brief description of the steps that led to this issue, as well\n",
            "as any rows that can be made public from the following information:\n"
          ]
        }
      ]
    },
    {
      "cell_type": "code",
      "source": [
        "# 🏗️ Project Configuration\n",
        "from google.colab import userdata\n",
        "import getpass\n",
        "\n",
        "# Get project configuration\n",
        "try:\n",
        "    PROJECT_ID = userdata.get('GOOGLE_CLOUD_PROJECT')\n",
        "    print(f\"✅ Using project from secrets: {PROJECT_ID}\")\n",
        "except:\n",
        "    PROJECT_ID = getpass.getpass(\"🔑 Enter your Google Cloud Project ID: \")\n",
        "\n",
        "# Configure BigFrames\n",
        "bpd.options.bigquery.project = PROJECT_ID\n",
        "bpd.options.bigquery.location = \"US\"\n",
        "\n",
        "# Initialize BigQuery client\n",
        "client = bigquery.Client(project=PROJECT_ID)\n",
        "\n",
        "print(f\"✅ Project configured: {PROJECT_ID}\")\n",
        "print(\"✅ BigFrames ready for action!\")"
      ],
      "metadata": {
        "id": "Jq2mXY6ZWC29",
        "outputId": "83521623-e298-4665-86ad-59ce9ee1285c",
        "colab": {
          "base_uri": "https://localhost:8080/"
        }
      },
      "id": "Jq2mXY6ZWC29",
      "execution_count": 7,
      "outputs": [
        {
          "output_type": "stream",
          "name": "stdout",
          "text": [
            "🔑 Enter your Google Cloud Project ID: ··········\n",
            "✅ Project configured: intellitrend-project-dev\n",
            "✅ BigFrames ready for action!\n"
          ]
        }
      ]
    },
    {
      "cell_type": "code",
      "source": [
        "!bq mk \\\n",
        "  --connection \\\n",
        "  --project_id=intellitrend-project-dev \\\n",
        "  --connection_type=CLOUD_RESOURCE \\\n",
        "  --location=us \\\n",
        "  test_connection"
      ],
      "metadata": {
        "id": "-5dp4Ss5BmI_",
        "outputId": "835bb4d3-9f06-40e1-c54c-1abc11f65c92",
        "colab": {
          "base_uri": "https://localhost:8080/"
        }
      },
      "id": "-5dp4Ss5BmI_",
      "execution_count": 9,
      "outputs": [
        {
          "output_type": "stream",
          "name": "stdout",
          "text": [
            "Connection 573553606303.us.test_connection successfully created\n"
          ]
        }
      ]
    },
    {
      "cell_type": "code",
      "source": [
        "SERVICE_ACCT = !bq show --format=prettyjson \\\n",
        "  --connection \\\n",
        "  --project_id=intellitrend-project-dev \\\n",
        "  --location=us \\\n",
        "  test_connection | grep \"serviceAccountId\" | cut -d '\"' -f 4\n",
        "\n",
        "SERVICE_ACCT_EMAIL = SERVICE_ACCT[0]  # first (and only) line\n",
        "print(SERVICE_ACCT_EMAIL)"
      ],
      "metadata": {
        "id": "Br8HeQf8COGv",
        "outputId": "603b037d-9855-4aa3-b076-f75deba5af99",
        "colab": {
          "base_uri": "https://localhost:8080/"
        }
      },
      "id": "Br8HeQf8COGv",
      "execution_count": 14,
      "outputs": [
        {
          "output_type": "stream",
          "name": "stdout",
          "text": [
            "bqcx-573553606303-394u@gcp-sa-bigquery-condel.iam.gserviceaccount.com\n"
          ]
        }
      ]
    },
    {
      "cell_type": "code",
      "source": [
        "import time\n",
        "\n",
        "# Use $SERVICE_ACCT_EMAIL so the Python variable expands in the shell\n",
        "!gcloud projects add-iam-policy-binding intellitrend-project-dev \\\n",
        "    --member=\"serviceAccount:$SERVICE_ACCT_EMAIL\" \\\n",
        "    --role=\"roles/storage.objectViewer\" \\\n",
        "    --format=none\n",
        "\n",
        "!gcloud projects add-iam-policy-binding intellitrend-project-dev \\\n",
        "    --member=\"serviceAccount:$SERVICE_ACCT_EMAIL\" \\\n",
        "    --role=\"roles/aiplatform.user\" \\\n",
        "    --format=none\n",
        "\n",
        "# Wait ~60 seconds for IAM updates to propagate\n",
        "# time.sleep(60)"
      ],
      "metadata": {
        "id": "TOoTQl_iDVNQ",
        "outputId": "38fcabdd-8662-4bb0-9d45-14bad2f11cf6",
        "colab": {
          "base_uri": "https://localhost:8080/"
        }
      },
      "id": "TOoTQl_iDVNQ",
      "execution_count": 16,
      "outputs": [
        {
          "output_type": "stream",
          "name": "stdout",
          "text": [
            "Updated IAM policy for project [intellitrend-project-dev].\n",
            "Updated IAM policy for project [intellitrend-project-dev].\n"
          ]
        }
      ]
    },
    {
      "cell_type": "code",
      "source": [],
      "metadata": {
        "id": "Xwm9-kE_AkC2"
      },
      "id": "Xwm9-kE_AkC2",
      "execution_count": null,
      "outputs": []
    },
    {
      "cell_type": "code",
      "source": [
        "import requests\n",
        "from google.cloud import bigquery\n",
        "\n",
        "PROJECT_ID = \"intellitrend-project-dev\"   # update if needed\n",
        "DATASET_ID = \"db_reports_insights_annual_esg\"\n",
        "TABLE_ID = \"all_reports_annual_esg\"\n",
        "\n",
        "# Step 0: Fetch file list from GitHub\n",
        "url = \"https://api.github.com/repos/intellitrend-global/google_hackathon_bq_ai/contents/annual_esg_reports\"\n",
        "response = requests.get(url)\n",
        "files = response.json()\n",
        "\n",
        "pdf_files = [(f[\"name\"], f[\"download_url\"]) for f in files if f[\"name\"].endswith(\".pdf\")]\n",
        "\n",
        "print(\"📄 Found PDF files on GitHub:\")\n",
        "for name, link in pdf_files:\n",
        "    print(f\"   {name} -> {link}\")\n",
        "\n",
        "# Step 1: Initialize BigQuery client\n",
        "client = bigquery.Client(project=PROJECT_ID)\n",
        "\n",
        "# Step 2: Ensure dataset exists (create if not)\n",
        "dataset_ref = bigquery.DatasetReference(PROJECT_ID, DATASET_ID)\n",
        "try:\n",
        "    client.get_dataset(dataset_ref)  # Check if it exists\n",
        "    print(f\"✅ Dataset {DATASET_ID} already exists\")\n",
        "except Exception:\n",
        "    dataset = bigquery.Dataset(dataset_ref)\n",
        "    dataset.location = \"US\"\n",
        "    client.create_dataset(dataset, timeout=30)\n",
        "    print(f\"📦 Created dataset {DATASET_ID}\")\n",
        "\n",
        "# Step 3: Define schema\n",
        "schema = [\n",
        "    bigquery.SchemaField(\"filename\", \"STRING\"),\n",
        "    bigquery.SchemaField(\"uri\", \"STRING\"),\n",
        "]\n",
        "\n",
        "# Step 4: Prepare rows\n",
        "rows = [{\"filename\": name, \"uri\": link} for name, link in pdf_files]\n",
        "\n",
        "# Step 5: Load into BigQuery\n",
        "job_config = bigquery.LoadJobConfig(schema=schema, write_disposition=\"WRITE_TRUNCATE\")\n",
        "table_ref = f\"{PROJECT_ID}.{DATASET_ID}.{TABLE_ID}\"\n",
        "\n",
        "job = client.load_table_from_json(rows, table_ref, job_config=job_config)\n",
        "job.result()\n",
        "\n",
        "print(f\"✅ Table {table_ref} created/updated with {len(pdf_files)} GitHub files\")\n"
      ],
      "metadata": {
        "id": "xNskNaElWO_1",
        "outputId": "41352ed1-8fa8-48d4-b118-72271f6e5661",
        "colab": {
          "base_uri": "https://localhost:8080/"
        }
      },
      "id": "xNskNaElWO_1",
      "execution_count": 8,
      "outputs": [
        {
          "output_type": "stream",
          "name": "stdout",
          "text": [
            "📄 Found PDF files on GitHub:\n",
            "   amgen_annualreport_2019.pdf -> https://raw.githubusercontent.com/intellitrend-global/google_hackathon_bq_ai/main/annual_esg_reports/amgen_annualreport_2019.pdf\n",
            "   amgen_annualreport_2020.pdf -> https://raw.githubusercontent.com/intellitrend-global/google_hackathon_bq_ai/main/annual_esg_reports/amgen_annualreport_2020.pdf\n",
            "   amgen_annualreport_2021.pdf -> https://raw.githubusercontent.com/intellitrend-global/google_hackathon_bq_ai/main/annual_esg_reports/amgen_annualreport_2021.pdf\n",
            "   amgen_annualreport_2022.pdf -> https://raw.githubusercontent.com/intellitrend-global/google_hackathon_bq_ai/main/annual_esg_reports/amgen_annualreport_2022.pdf\n",
            "   amgen_annualreport_2023.pdf -> https://raw.githubusercontent.com/intellitrend-global/google_hackathon_bq_ai/main/annual_esg_reports/amgen_annualreport_2023.pdf\n",
            "   amgen_annualreport_2024.pdf -> https://raw.githubusercontent.com/intellitrend-global/google_hackathon_bq_ai/main/annual_esg_reports/amgen_annualreport_2024.pdf\n",
            "   amgen_sustainabilityreport_2020.pdf -> https://raw.githubusercontent.com/intellitrend-global/google_hackathon_bq_ai/main/annual_esg_reports/amgen_sustainabilityreport_2020.pdf\n",
            "   amgen_sustainabilityreport_2021.pdf -> https://raw.githubusercontent.com/intellitrend-global/google_hackathon_bq_ai/main/annual_esg_reports/amgen_sustainabilityreport_2021.pdf\n",
            "   amgen_sustainabilityreport_2022.pdf -> https://raw.githubusercontent.com/intellitrend-global/google_hackathon_bq_ai/main/annual_esg_reports/amgen_sustainabilityreport_2022.pdf\n",
            "   amgen_sustainabilityreport_2023.pdf -> https://raw.githubusercontent.com/intellitrend-global/google_hackathon_bq_ai/main/annual_esg_reports/amgen_sustainabilityreport_2023.pdf\n",
            "   amgen_sustainabilityreport_2024.pdf -> https://raw.githubusercontent.com/intellitrend-global/google_hackathon_bq_ai/main/annual_esg_reports/amgen_sustainabilityreport_2024.pdf\n",
            "   bankofmontreal_annualreport_2020.pdf -> https://raw.githubusercontent.com/intellitrend-global/google_hackathon_bq_ai/main/annual_esg_reports/bankofmontreal_annualreport_2020.pdf\n",
            "   bankofmontreal_annualreport_2021.pdf -> https://raw.githubusercontent.com/intellitrend-global/google_hackathon_bq_ai/main/annual_esg_reports/bankofmontreal_annualreport_2021.pdf\n",
            "   bankofmontreal_annualreport_2022.pdf -> https://raw.githubusercontent.com/intellitrend-global/google_hackathon_bq_ai/main/annual_esg_reports/bankofmontreal_annualreport_2022.pdf\n",
            "   bankofmontreal_annualreport_2023.pdf -> https://raw.githubusercontent.com/intellitrend-global/google_hackathon_bq_ai/main/annual_esg_reports/bankofmontreal_annualreport_2023.pdf\n",
            "   bankofmontreal_annualreport_2024.pdf -> https://raw.githubusercontent.com/intellitrend-global/google_hackathon_bq_ai/main/annual_esg_reports/bankofmontreal_annualreport_2024.pdf\n",
            "   bankofmontreal_sustainabilityreport_2020.pdf -> https://raw.githubusercontent.com/intellitrend-global/google_hackathon_bq_ai/main/annual_esg_reports/bankofmontreal_sustainabilityreport_2020.pdf\n",
            "   bankofmontreal_sustainabilityreport_2021.pdf -> https://raw.githubusercontent.com/intellitrend-global/google_hackathon_bq_ai/main/annual_esg_reports/bankofmontreal_sustainabilityreport_2021.pdf\n",
            "   bankofmontreal_sustainabilityreport_2022.pdf -> https://raw.githubusercontent.com/intellitrend-global/google_hackathon_bq_ai/main/annual_esg_reports/bankofmontreal_sustainabilityreport_2022.pdf\n",
            "   bankofmontreal_sustainabilityreport_2023.pdf -> https://raw.githubusercontent.com/intellitrend-global/google_hackathon_bq_ai/main/annual_esg_reports/bankofmontreal_sustainabilityreport_2023.pdf\n",
            "   bankofmontreal_sustainabilityreport_2024.pdf -> https://raw.githubusercontent.com/intellitrend-global/google_hackathon_bq_ai/main/annual_esg_reports/bankofmontreal_sustainabilityreport_2024.pdf\n",
            "   jpmorganchase_annualreport_2023.pdf -> https://raw.githubusercontent.com/intellitrend-global/google_hackathon_bq_ai/main/annual_esg_reports/jpmorganchase_annualreport_2023.pdf\n",
            "   jpmorganchase_annualreport_2024.pdf -> https://raw.githubusercontent.com/intellitrend-global/google_hackathon_bq_ai/main/annual_esg_reports/jpmorganchase_annualreport_2024.pdf\n",
            "   jpmorganchase_sustainabilityreport_2023.pdf -> https://raw.githubusercontent.com/intellitrend-global/google_hackathon_bq_ai/main/annual_esg_reports/jpmorganchase_sustainabilityreport_2023.pdf\n",
            "   jpmorganchase_sustainabilityreport_2024.pdf -> https://raw.githubusercontent.com/intellitrend-global/google_hackathon_bq_ai/main/annual_esg_reports/jpmorganchase_sustainabilityreport_2024.pdf\n",
            "   lloyd_annualreport_2020.pdf -> https://raw.githubusercontent.com/intellitrend-global/google_hackathon_bq_ai/main/annual_esg_reports/lloyd_annualreport_2020.pdf\n",
            "   lloyd_annualreport_2021.pdf -> https://raw.githubusercontent.com/intellitrend-global/google_hackathon_bq_ai/main/annual_esg_reports/lloyd_annualreport_2021.pdf\n",
            "   lloyd_annualreport_2022.pdf -> https://raw.githubusercontent.com/intellitrend-global/google_hackathon_bq_ai/main/annual_esg_reports/lloyd_annualreport_2022.pdf\n",
            "   lloyd_annualreport_2023.pdf -> https://raw.githubusercontent.com/intellitrend-global/google_hackathon_bq_ai/main/annual_esg_reports/lloyd_annualreport_2023.pdf\n",
            "   lloyd_annualreport_2024.pdf -> https://raw.githubusercontent.com/intellitrend-global/google_hackathon_bq_ai/main/annual_esg_reports/lloyd_annualreport_2024.pdf\n",
            "   lloyd_sustainabilityreport_2020.pdf -> https://raw.githubusercontent.com/intellitrend-global/google_hackathon_bq_ai/main/annual_esg_reports/lloyd_sustainabilityreport_2020.pdf\n",
            "   lloyd_sustainabilityreport_2021.pdf -> https://raw.githubusercontent.com/intellitrend-global/google_hackathon_bq_ai/main/annual_esg_reports/lloyd_sustainabilityreport_2021.pdf\n",
            "   lloyd_sustainabilityreport_2022.pdf -> https://raw.githubusercontent.com/intellitrend-global/google_hackathon_bq_ai/main/annual_esg_reports/lloyd_sustainabilityreport_2022.pdf\n",
            "   lloyd_sustainabilityreport_2023.pdf -> https://raw.githubusercontent.com/intellitrend-global/google_hackathon_bq_ai/main/annual_esg_reports/lloyd_sustainabilityreport_2023.pdf\n",
            "   lloyd_sustainabilityreport_2024.pdf -> https://raw.githubusercontent.com/intellitrend-global/google_hackathon_bq_ai/main/annual_esg_reports/lloyd_sustainabilityreport_2024.pdf\n",
            "   novartis_annualreport_2019.pdf -> https://raw.githubusercontent.com/intellitrend-global/google_hackathon_bq_ai/main/annual_esg_reports/novartis_annualreport_2019.pdf\n",
            "   novartis_annualreport_2020.pdf -> https://raw.githubusercontent.com/intellitrend-global/google_hackathon_bq_ai/main/annual_esg_reports/novartis_annualreport_2020.pdf\n",
            "   novartis_annualreport_2021.pdf -> https://raw.githubusercontent.com/intellitrend-global/google_hackathon_bq_ai/main/annual_esg_reports/novartis_annualreport_2021.pdf\n",
            "   novartis_annualreport_2022.pdf -> https://raw.githubusercontent.com/intellitrend-global/google_hackathon_bq_ai/main/annual_esg_reports/novartis_annualreport_2022.pdf\n",
            "   novartis_annualreport_2023.pdf -> https://raw.githubusercontent.com/intellitrend-global/google_hackathon_bq_ai/main/annual_esg_reports/novartis_annualreport_2023.pdf\n",
            "   novartis_annualreport_2024.pdf -> https://raw.githubusercontent.com/intellitrend-global/google_hackathon_bq_ai/main/annual_esg_reports/novartis_annualreport_2024.pdf\n",
            "   novartis_sustainability_2019.pdf -> https://raw.githubusercontent.com/intellitrend-global/google_hackathon_bq_ai/main/annual_esg_reports/novartis_sustainability_2019.pdf\n",
            "   novartis_sustainability_2020.pdf -> https://raw.githubusercontent.com/intellitrend-global/google_hackathon_bq_ai/main/annual_esg_reports/novartis_sustainability_2020.pdf\n",
            "   novartis_sustainability_2021.pdf -> https://raw.githubusercontent.com/intellitrend-global/google_hackathon_bq_ai/main/annual_esg_reports/novartis_sustainability_2021.pdf\n",
            "   novartis_sustainability_2022.pdf -> https://raw.githubusercontent.com/intellitrend-global/google_hackathon_bq_ai/main/annual_esg_reports/novartis_sustainability_2022.pdf\n",
            "   novartis_sustainability_2023.pdf -> https://raw.githubusercontent.com/intellitrend-global/google_hackathon_bq_ai/main/annual_esg_reports/novartis_sustainability_2023.pdf\n",
            "   novartis_sustainability_2024.pdf -> https://raw.githubusercontent.com/intellitrend-global/google_hackathon_bq_ai/main/annual_esg_reports/novartis_sustainability_2024.pdf\n",
            "   target_annualreport_2019.pdf -> https://raw.githubusercontent.com/intellitrend-global/google_hackathon_bq_ai/main/annual_esg_reports/target_annualreport_2019.pdf\n",
            "   target_annualreport_2020.pdf -> https://raw.githubusercontent.com/intellitrend-global/google_hackathon_bq_ai/main/annual_esg_reports/target_annualreport_2020.pdf\n",
            "   target_annualreport_2021.pdf -> https://raw.githubusercontent.com/intellitrend-global/google_hackathon_bq_ai/main/annual_esg_reports/target_annualreport_2021.pdf\n",
            "   target_annualreport_2022.pdf -> https://raw.githubusercontent.com/intellitrend-global/google_hackathon_bq_ai/main/annual_esg_reports/target_annualreport_2022.pdf\n",
            "   target_annualreport_2023.pdf -> https://raw.githubusercontent.com/intellitrend-global/google_hackathon_bq_ai/main/annual_esg_reports/target_annualreport_2023.pdf\n",
            "   target_annualreport_2024.pdf -> https://raw.githubusercontent.com/intellitrend-global/google_hackathon_bq_ai/main/annual_esg_reports/target_annualreport_2024.pdf\n",
            "   target_sustainabilityreport_2019.pdf -> https://raw.githubusercontent.com/intellitrend-global/google_hackathon_bq_ai/main/annual_esg_reports/target_sustainabilityreport_2019.pdf\n",
            "   target_sustainabilityreport_2020.pdf -> https://raw.githubusercontent.com/intellitrend-global/google_hackathon_bq_ai/main/annual_esg_reports/target_sustainabilityreport_2020.pdf\n",
            "   target_sustainabilityreport_2021.pdf -> https://raw.githubusercontent.com/intellitrend-global/google_hackathon_bq_ai/main/annual_esg_reports/target_sustainabilityreport_2021.pdf\n",
            "   target_sustainabilityreport_2022.pdf -> https://raw.githubusercontent.com/intellitrend-global/google_hackathon_bq_ai/main/annual_esg_reports/target_sustainabilityreport_2022.pdf\n",
            "   target_sustainabilityreport_2023.pdf -> https://raw.githubusercontent.com/intellitrend-global/google_hackathon_bq_ai/main/annual_esg_reports/target_sustainabilityreport_2023.pdf\n",
            "   target_sustainabilityreport_2024.pdf -> https://raw.githubusercontent.com/intellitrend-global/google_hackathon_bq_ai/main/annual_esg_reports/target_sustainabilityreport_2024.pdf\n",
            "   wellsfargo_annualreport_2020.pdf -> https://raw.githubusercontent.com/intellitrend-global/google_hackathon_bq_ai/main/annual_esg_reports/wellsfargo_annualreport_2020.pdf\n",
            "   wellsfargo_annualreport_2021.pdf -> https://raw.githubusercontent.com/intellitrend-global/google_hackathon_bq_ai/main/annual_esg_reports/wellsfargo_annualreport_2021.pdf\n",
            "   wellsfargo_annualreport_2022.pdf -> https://raw.githubusercontent.com/intellitrend-global/google_hackathon_bq_ai/main/annual_esg_reports/wellsfargo_annualreport_2022.pdf\n",
            "   wellsfargo_annualreport_2023.pdf -> https://raw.githubusercontent.com/intellitrend-global/google_hackathon_bq_ai/main/annual_esg_reports/wellsfargo_annualreport_2023.pdf\n",
            "   wellsfargo_annualreport_2024.pdf -> https://raw.githubusercontent.com/intellitrend-global/google_hackathon_bq_ai/main/annual_esg_reports/wellsfargo_annualreport_2024.pdf\n",
            "   wellsfargo_sustainabilityreport_2020.pdf -> https://raw.githubusercontent.com/intellitrend-global/google_hackathon_bq_ai/main/annual_esg_reports/wellsfargo_sustainabilityreport_2020.pdf\n",
            "   wellsfargo_sustainabilityreport_2021.pdf -> https://raw.githubusercontent.com/intellitrend-global/google_hackathon_bq_ai/main/annual_esg_reports/wellsfargo_sustainabilityreport_2021.pdf\n",
            "   wellsfargo_sustainabilityreport_2022.pdf -> https://raw.githubusercontent.com/intellitrend-global/google_hackathon_bq_ai/main/annual_esg_reports/wellsfargo_sustainabilityreport_2022.pdf\n",
            "   wellsfargo_sustainabilityreport_2023.pdf -> https://raw.githubusercontent.com/intellitrend-global/google_hackathon_bq_ai/main/annual_esg_reports/wellsfargo_sustainabilityreport_2023.pdf\n",
            "   wellsfargo_sustainabilityreport_2024.pdf -> https://raw.githubusercontent.com/intellitrend-global/google_hackathon_bq_ai/main/annual_esg_reports/wellsfargo_sustainabilityreport_2024.pdf\n",
            "📦 Created dataset db_reports_insights_annual_esg\n",
            "✅ Table intellitrend-project-dev.db_reports_insights_annual_esg.all_reports_annual_esg created/updated with 69 GitHub files\n"
          ]
        }
      ]
    },
    {
      "cell_type": "code",
      "source": [
        "# 🧠 Step 1: Extract Financial & ESG Data using AI\n",
        "print(\"🧠 Processing PDFs with Gemini 2.5 Pro (direct call, no model creation)...\")\n",
        "print(\"   This analyzes Amgen, Target, and Novartis reports...\")\n",
        "\n",
        "generate_text_sql = f\"\"\"\n",
        "CREATE OR REPLACE TABLE `{PROJECT_ID}.db_reports_insights_annual_esg.all_reports_results_raw_annual_esg` AS (\n",
        "SELECT\n",
        "  *\n",
        "FROM\n",
        "  AI.GENERATE(\n",
        "    MODEL `gemini-2.5-pro`,\n",
        "    TABLE `{PROJECT_ID}.db_reports_insights_annual_esg.all_reports_annual_esg`,\n",
        "    STRUCT(\n",
        "      '''\n",
        "You are an expert ESG and Financial analyst. Use only the information provided in the document to answer.\n",
        "Fetch Financial and Sustainability Details including tabular and image data for each PDF.\n",
        "      ''' AS prompt,\n",
        "      0 AS temperature,\n",
        "      8092 AS max_output_tokens\n",
        "    )\n",
        "  )\n",
        "WHERE uri LIKE '%amgen%' OR uri LIKE '%target%' OR uri LIKE '%novartis%'\n",
        ");\n",
        "\"\"\"\n",
        "\n",
        "try:\n",
        "    print(\"⏳ Processing... This may take 2-3 minutes\")\n",
        "    job = client.query(generate_text_sql)\n",
        "    job.result()\n",
        "\n",
        "    # Check results\n",
        "    check_sql = f\"\"\"\n",
        "        SELECT COUNT(*) AS processed_files\n",
        "        FROM `{PROJECT_ID}.db_reports_insights_annual_esg.all_reports_results_raw_annual_esg`\n",
        "    \"\"\"\n",
        "    result = client.query(check_sql).result()\n",
        "    count = list(result)[0][0]\n",
        "    print(f\"✅ Successfully processed {count} files!\")\n",
        "\n",
        "except Exception as e:\n",
        "    print(f\"⚠️  Processing issue: {e}\")\n"
      ],
      "metadata": {
        "id": "BHfkpWRwZ7Lw",
        "outputId": "1c960aae-b852-4297-db93-bb55f2cd9e51",
        "colab": {
          "base_uri": "https://localhost:8080/"
        }
      },
      "id": "BHfkpWRwZ7Lw",
      "execution_count": 10,
      "outputs": [
        {
          "output_type": "stream",
          "name": "stdout",
          "text": [
            "🧠 Processing PDFs with Gemini 2.5 Pro (direct call, no model creation)...\n",
            "   This analyzes Amgen, Target, and Novartis reports...\n",
            "⏳ Processing... This may take 2-3 minutes\n",
            "⚠️  Processing issue: 404 Not found: Dataset intellitrend-project-dev:gemini-2 was not found in location US; reason: notFound, message: Not found: Dataset intellitrend-project-dev:gemini-2 was not found in location US\n",
            "\n",
            "Location: US\n",
            "Job ID: 283fd044-921c-4ada-bbb4-736495b867f3\n",
            "\n"
          ]
        }
      ]
    }
  ],
  "metadata": {
    "language_info": {
      "name": "python"
    },
    "colab": {
      "provenance": []
    },
    "kernelspec": {
      "name": "python3",
      "display_name": "Python 3"
    }
  },
  "nbformat": 4,
  "nbformat_minor": 5
}