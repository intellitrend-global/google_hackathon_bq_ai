{
  "cells": [
    {
      "cell_type": "markdown",
      "metadata": {
        "id": "view-in-github",
        "colab_type": "text"
      },
      "source": [
        "<a href=\"https://colab.research.google.com/github/intellitrend-global/google_hackathon_bq_ai/blob/main/process_reports.ipynb\" target=\"_parent\"><img src=\"https://colab.research.google.com/assets/colab-badge.svg\" alt=\"Open In Colab\"/></a>"
      ]
    },
    {
      "cell_type": "markdown",
      "source": [
        "# 🌍 ESG & 💲Financial Intelligence Platform\n",
        "## AI-Powered Analysis of Corporate Reports (ESG And Annual)\n",
        "\n",
        "**🎯 What this does:**\n",
        "- Automatically processes PDF reports from Google Cloud Storage\n",
        "- Uses Gemini 2.5 Pro to extract financial & ESG metrics\n",
        "- Generates forecasts using Google's TimesFM 2.0 model\n",
        "- Analyzes companies: Amgen, Novartis, Target\n",
        "\n",
        "**📊 Features:**\n",
        "- ✅ Automated PDF processing from Cloud Storage\n",
        "- ✅ AI-powered data extraction (Financial + ESG metrics)\n",
        "- ✅ Revenue forecasting with TimesFM 2.0\n",
        "- ✅ Multi-company comparative analysis\n",
        "\n"
      ],
      "metadata": {
        "id": "B4mF9BKbVXq9"
      },
      "id": "B4mF9BKbVXq9"
    },
    {
      "cell_type": "markdown",
      "source": [
        "# 🔑Setup & Authentication"
      ],
      "metadata": {
        "id": "KdGXBO2wqGdM"
      },
      "id": "KdGXBO2wqGdM"
    },
    {
      "cell_type": "code",
      "source": [
        "\n",
        "print(\"🌟 Welcome to the ESG & Financial Intelligence Platform!\")\n",
        "print(\"🔧 Setting up environment...\")\n",
        "\n",
        "# Authenticate with Google Cloud\n",
        "from google.colab import auth\n",
        "auth.authenticate_user()\n",
        "\n",
        "# Install required packages\n",
        "!pip install -q bigframes google-cloud-bigquery plotly seaborn\n",
        "\n",
        "# Import libraries\n",
        "import bigframes.pandas as bpd\n",
        "from google.cloud import bigquery\n",
        "import pandas as pd\n",
        "import plotly.express as px\n",
        "import plotly.graph_objects as go\n",
        "from plotly.subplots import make_subplots\n",
        "import seaborn as sns\n",
        "import matplotlib.pyplot as plt\n",
        "import numpy as np\n",
        "\n",
        "\n",
        "print(\"✅ Authentication complete!\")\n",
        "print(\"✅ Libraries installed!\")"
      ],
      "metadata": {
        "id": "MsdBozKaVcBV",
        "colab": {
          "base_uri": "https://localhost:8080/"
        },
        "outputId": "ae3952bc-5ca1-4401-da2c-0b2d26a42292"
      },
      "id": "MsdBozKaVcBV",
      "execution_count": 35,
      "outputs": [
        {
          "output_type": "stream",
          "name": "stdout",
          "text": [
            "🌟 Welcome to the ESG & Financial Intelligence Platform!\n",
            "🔧 Setting up environment...\n",
            "✅ Authentication complete!\n",
            "✅ Libraries installed!\n"
          ]
        }
      ]
    },
    {
      "cell_type": "markdown",
      "source": [
        "# 🚀 Intializing Parameters"
      ],
      "metadata": {
        "id": "G8ZIpU_YqTKm"
      },
      "id": "G8ZIpU_YqTKm"
    },
    {
      "cell_type": "code",
      "source": [
        "# Replace the below with other company names from this list:\n",
        "# novartis, amgen, target, bankofmontreal, lloyd, wellsfargo\n",
        "# we can use an array / list if we need to process more than one company\n",
        "\n",
        "company1 = \"novartis\"\n",
        "company2 =\"unitedhealth\"\n",
        "company3 = \"amgen\"\n",
        "\n",
        "DATA_FILES_PATH=\"gs://report_insights\"\n",
        "\n",
        "PROJECT_ID = \"intellitrend-project-dev\"   # update if needed\n",
        "PROJECT_LOCATION=\"US\" # Others are EU, ASIA\n",
        "CLOUD_RES_CONN = \"ghack_conn\" #must be all small case\n",
        "\n",
        "\n",
        "DATASET_ID = \"db_reports_insights_annual_esg\" #Name of dataset to be created in BQ\n",
        "\n",
        "OBJ_TABLE_ID = \"all_reports_obj_table_metadata\" #Objec table name. That holds the metadata of the source files in GCS\n",
        "RAW_TABLE_ID=\"all_reports_ai_text_raw\"   # the output text that gets extracted based on prmpt - using ML.GENERATE_TEXT\n",
        "\n",
        "CURATED_TABLE_ID=\"all_reports_ai_text_curated\" # response_text extracted from JSON output\n",
        "CURATED2_TABLE_ID=\"all_reports_ai_text_curated2\" # the output text that gets extracted based on prmpt - using AI.GENERATE (An alternate way - for comparison)\n",
        "\n",
        "FINAL_TABLE_ID=\"all_reports_ai_text_final\" # output metrics info from the curated table - using AI.GENERATE_TABLE\n",
        "\n",
        "METRICS_TABLE_ID = \"all_reports_metrics\"  # format the output final table\n",
        "FORECAST_TABLE_ID=\"all_reports_forecast\" # forecast table from the formatted-output\n",
        "\n",
        "QUALIFIED_CLOUD_RES_CONN = f\"{PROJECT_ID}.{PROJECT_LOCATION}.{CLOUD_RES_CONN}\"\n",
        "\n",
        "QUALIFIED_OBJ_TABLE_ID= f\"{PROJECT_ID}.{DATASET_ID}.{OBJ_TABLE_ID}\"\n",
        "QUALIFIED_RAW_TABLE_ID= f\"{PROJECT_ID}.{DATASET_ID}.{RAW_TABLE_ID}\"\n",
        "\n",
        "QUALIFIED_CURATED_TABLE_ID= f\"{PROJECT_ID}.{DATASET_ID}.{CURATED_TABLE_ID}\"\n",
        "QUALIFIED_CURATED2_TABLE_ID= f\"{PROJECT_ID}.{DATASET_ID}.{CURATED2_TABLE_ID}\"\n",
        "\n",
        "QUALIFIED_METRICS_TABLE_ID= f\"{PROJECT_ID}.{DATASET_ID}.{METRICS_TABLE_ID}\"\n",
        "\n",
        "QUALIFIED_FINAL_TABLE_ID= f\"{PROJECT_ID}.{DATASET_ID}.{FINAL_TABLE_ID}\"\n",
        "QUALIFIED_FORECAST_TABLE_ID= f\"{PROJECT_ID}.{DATASET_ID}.{FORECAST_TABLE_ID}\"\n",
        "\n",
        "MODEL_ENDPOINT=\"gemini-2.5-pro\" # or any other gemini model\n",
        "MODEL_NAME=\"gemini_model_25pro\"\n",
        "QUALIFIED_MODEL_ID=f\"{PROJECT_ID}.{DATASET_ID}.{MODEL_NAME}\"\n",
        "\n",
        "\n",
        "\n",
        "\n",
        "# --- Bigframes setup ---\n",
        "bpd.options.bigquery.project = PROJECT_ID\n",
        "bpd.options.bigquery.location = PROJECT_LOCATION"
      ],
      "metadata": {
        "id": "j9wXa542JAad"
      },
      "id": "j9wXa542JAad",
      "execution_count": 44,
      "outputs": []
    },
    {
      "cell_type": "markdown",
      "source": [
        "# 🏗️ Project Configuration"
      ],
      "metadata": {
        "id": "xEZ9AjxmqYPW"
      },
      "id": "xEZ9AjxmqYPW"
    },
    {
      "cell_type": "code",
      "source": [
        "\n",
        "from google.colab import userdata\n",
        "\n",
        "# Configure BigFrames\n",
        "bpd.options.bigquery.project = PROJECT_ID\n",
        "bpd.options.bigquery.location = PROJECT_LOCATION\n",
        "\n",
        "# Initialize BigQuery client\n",
        "client = bigquery.Client(project=PROJECT_ID)\n",
        "\n",
        "print(f\"✅ Project configured: {PROJECT_ID}\")\n",
        "print(\"✅ BigFrames ready for action!\")"
      ],
      "metadata": {
        "id": "Jq2mXY6ZWC29",
        "colab": {
          "base_uri": "https://localhost:8080/"
        },
        "outputId": "a29e19e0-58a9-41df-d726-00ed15e43161"
      },
      "id": "Jq2mXY6ZWC29",
      "execution_count": 37,
      "outputs": [
        {
          "output_type": "stream",
          "name": "stdout",
          "text": [
            "✅ Project configured: intellitrend-project-dev\n",
            "✅ BigFrames ready for action!\n"
          ]
        }
      ]
    },
    {
      "cell_type": "markdown",
      "source": [
        "# 🔗Create Cloud Resource Connection"
      ],
      "metadata": {
        "id": "ibVYprE2qbYa"
      },
      "id": "ibVYprE2qbYa"
    },
    {
      "cell_type": "code",
      "source": [
        "!bq mk \\\n",
        "  --connection \\\n",
        "  --project_id={PROJECT_ID} \\\n",
        "  --connection_type=CLOUD_RESOURCE \\\n",
        "  --location={PROJECT_LOCATION} \\\n",
        "  {CLOUD_RES_CONN}"
      ],
      "metadata": {
        "id": "-5dp4Ss5BmI_",
        "colab": {
          "base_uri": "https://localhost:8080/"
        },
        "outputId": "36ec154a-71d2-4574-cc80-c7044da8edbc"
      },
      "id": "-5dp4Ss5BmI_",
      "execution_count": 38,
      "outputs": [
        {
          "output_type": "stream",
          "name": "stdout",
          "text": [
            "BigQuery error in mk operation: Already Exists: Connection\n",
            "projects/573553606303/locations/us/connections/ghack_conn\n"
          ]
        }
      ]
    },
    {
      "cell_type": "markdown",
      "source": [
        "# 🆔Fetch Service Account associated with the Cloud Res Connection"
      ],
      "metadata": {
        "id": "TJA-cM8fqkea"
      },
      "id": "TJA-cM8fqkea"
    },
    {
      "cell_type": "code",
      "source": [
        "SERVICE_ACCT = !bq show --format=prettyjson \\\n",
        "  --connection \\\n",
        "  --project_id={PROJECT_ID} \\\n",
        "  --location={PROJECT_LOCATION} \\\n",
        "  {CLOUD_RES_CONN} | grep \"serviceAccountId\" | cut -d '\"' -f 4\n",
        "\n",
        "SERVICE_ACCT_EMAIL = SERVICE_ACCT[0]  # first (and only) line\n",
        "print(SERVICE_ACCT_EMAIL)"
      ],
      "metadata": {
        "id": "Br8HeQf8COGv",
        "colab": {
          "base_uri": "https://localhost:8080/"
        },
        "outputId": "3ed19448-4fe8-4e1b-f560-f569fe3bb576"
      },
      "id": "Br8HeQf8COGv",
      "execution_count": 39,
      "outputs": [
        {
          "output_type": "stream",
          "name": "stdout",
          "text": [
            "bqcx-573553606303-2s0n@gcp-sa-bigquery-condel.iam.gserviceaccount.com\n"
          ]
        }
      ]
    },
    {
      "cell_type": "markdown",
      "source": [
        "# 👥Give the below roles to the Conn Service Account:\n",
        "  * objectViewer and  \n",
        "  * aiplatformUser\n",
        "\n"
      ],
      "metadata": {
        "id": "wLTg-1olqrA5"
      },
      "id": "wLTg-1olqrA5"
    },
    {
      "cell_type": "code",
      "source": [
        "import time\n",
        "\n",
        "# Use $SERVICE_ACCT_EMAIL so the Python variable expands in the shell\n",
        "!gcloud projects add-iam-policy-binding {PROJECT_ID} \\\n",
        "    --member=\"serviceAccount:$SERVICE_ACCT_EMAIL\" \\\n",
        "    --role=\"roles/storage.objectViewer\" \\\n",
        "    --format=none\n",
        "\n",
        "!gcloud projects add-iam-policy-binding {PROJECT_ID} \\\n",
        "    --member=\"serviceAccount:$SERVICE_ACCT_EMAIL\" \\\n",
        "    --role=\"roles/aiplatform.user\" \\\n",
        "    --format=none\n",
        "\n",
        "!gcloud projects add-iam-policy-binding {PROJECT_ID} \\\n",
        "    --member=\"serviceAccount:$SERVICE_ACCT_EMAIL\" \\\n",
        "    --role=\"roles/bigquery.connectionUser\" \\\n",
        "    --format=none\n",
        "\n",
        "\n",
        "!gcloud projects add-iam-policy-binding {PROJECT_ID} \\\n",
        "    --member=\"serviceAccount:$SERVICE_ACCT_EMAIL\" \\\n",
        "    --role=\"roles/run.invoker\" \\\n",
        "    --format=none\n",
        "\n",
        "\n",
        "# Wait ~60 seconds for IAM updates to propagate\n",
        "# time.sleep(60)"
      ],
      "metadata": {
        "id": "TOoTQl_iDVNQ",
        "outputId": "e2b54c1e-38af-4b50-f1cc-c386b50fe1fa",
        "colab": {
          "base_uri": "https://localhost:8080/"
        }
      },
      "id": "TOoTQl_iDVNQ",
      "execution_count": 40,
      "outputs": [
        {
          "output_type": "stream",
          "name": "stdout",
          "text": [
            "Updated IAM policy for project [intellitrend-project-dev].\n",
            "Updated IAM policy for project [intellitrend-project-dev].\n",
            "Updated IAM policy for project [intellitrend-project-dev].\n",
            "Updated IAM policy for project [intellitrend-project-dev].\n"
          ]
        }
      ]
    },
    {
      "cell_type": "markdown",
      "source": [
        "#✦ Create the Gemini Model"
      ],
      "metadata": {
        "id": "zoGn5y3prEO1"
      },
      "id": "zoGn5y3prEO1"
    },
    {
      "cell_type": "code",
      "source": [
        "# 🤖 Step 0a: Create Gemini 2.5 Pro Model\n",
        "print(\"🤖 Creating Gemini 2.5 Pro model...\")\n",
        "\n",
        "create_model_sql = f\"\"\"\n",
        "CREATE OR REPLACE MODEL `{QUALIFIED_MODEL_ID}`\n",
        "REMOTE WITH CONNECTION `{QUALIFIED_CLOUD_RES_CONN}`\n",
        "OPTIONS (ENDPOINT = '{MODEL_ENDPOINT}');\n",
        "\"\"\"\n",
        "\n",
        "try:\n",
        "    job = client.query(create_model_sql)\n",
        "    job.result()\n",
        "    print(\"🎉 Gemini 2.5 Pro model created successfully!\")\n",
        "except Exception as e:\n",
        "    print(f\"⚠️  Model creation issue: {e}\")"
      ],
      "metadata": {
        "id": "8H-B2sKyNRYI",
        "colab": {
          "base_uri": "https://localhost:8080/"
        },
        "outputId": "56d525ae-13a8-49b4-bc68-4681b8a5b7ef"
      },
      "id": "8H-B2sKyNRYI",
      "execution_count": 41,
      "outputs": [
        {
          "output_type": "stream",
          "name": "stdout",
          "text": [
            "🤖 Creating Gemini 2.5 Pro model...\n",
            "🎉 Gemini 2.5 Pro model created successfully!\n"
          ]
        }
      ]
    },
    {
      "cell_type": "markdown",
      "source": [
        "# 𝄜 Create **Object Table** for PDF Reports"
      ],
      "metadata": {
        "id": "uN-WN3hwrJQO"
      },
      "id": "uN-WN3hwrJQO"
    },
    {
      "cell_type": "code",
      "source": [
        "print(f\"📁 Creating external table(Object Table): '{OBJ_TABLE_ID}' for PDF reports...\")\n",
        "\n",
        "create_external_table_sql = f\"\"\"\n",
        "CREATE OR REPLACE EXTERNAL TABLE `{QUALIFIED_OBJ_TABLE_ID}`\n",
        "WITH CONNECTION `{QUALIFIED_CLOUD_RES_CONN}`\n",
        "OPTIONS (\n",
        "  object_metadata = 'SIMPLE',\n",
        "  uris = ['{DATA_FILES_PATH}/{company1}/*', '{DATA_FILES_PATH}/{company2}/*', '{DATA_FILES_PATH}/{company3}/*']\n",
        ");\n",
        "\"\"\"\n",
        "\n",
        "# Uncomment to process a single file for testing\n",
        "\n",
        "# create_external_table_sql = f\"\"\"\n",
        "# CREATE OR REPLACE EXTERNAL TABLE `{QUALIFIED_OBJ_TABLE_ID}`\n",
        "# WITH CONNECTION `{QUALIFIED_CLOUD_RES_CONN}`\n",
        "# OPTIONS (\n",
        "#   object_metadata = 'SIMPLE',\n",
        "#   uris = ['{DATA_FILES_PATH}/{company1}/{company1}_annualreport_2020.pdf']\n",
        "# );\n",
        "# \"\"\"\n",
        "\n",
        "try:\n",
        "    job = client.query(create_external_table_sql)\n",
        "    job.result()\n",
        "    print(\"✅ External table created successfully!\")\n",
        "\n",
        "    # Check what files we have\n",
        "    check_files_sql = f\"SELECT uri, size FROM `{QUALIFIED_OBJ_TABLE_ID}`  \"\n",
        "    files_df = bpd.read_gbq(check_files_sql)\n",
        "    print(f\"📄 Found {len(files_df)} files in storage\")\n",
        "    print(\"Sample files:\")\n",
        "    print(files_df.head())\n",
        "\n",
        "\n",
        "except Exception as e:\n",
        "    print(f\"⚠️  Note: {e}\")\n",
        "    print(\"   Make sure your GCS bucket and connection are set up correctly\")\n",
        "\n"
      ],
      "metadata": {
        "colab": {
          "base_uri": "https://localhost:8080/",
          "height": 243
        },
        "id": "7YQ_Q-LjIF0U",
        "outputId": "0ee76232-f735-47b3-ef76-68e1f91db586"
      },
      "id": "7YQ_Q-LjIF0U",
      "execution_count": 45,
      "outputs": [
        {
          "output_type": "stream",
          "name": "stdout",
          "text": [
            "📁 Creating external table(Object Table): 'all_reports_obj_table_metadata' for PDF reports...\n",
            "✅ External table created successfully!\n",
            "📄 Found 33 files in storage\n",
            "Sample files:\n"
          ]
        },
        {
          "output_type": "display_data",
          "data": {
            "text/plain": [
              "<IPython.core.display.HTML object>"
            ],
            "text/html": [
              "Query job f30e5bf6-0a8f-4cc1-ab6c-3fee1f20af94 is DONE. 0 Bytes processed. <a target=\"_blank\" href=\"https://console.cloud.google.com/bigquery?project=intellitrend-project-dev&j=bq:US:f30e5bf6-0a8f-4cc1-ab6c-3fee1f20af94&page=queryresults\">Open Job</a>"
            ]
          },
          "metadata": {}
        },
        {
          "output_type": "stream",
          "name": "stdout",
          "text": [
            "                                                 uri     size\n",
            "0  gs://report_insights/novartis/novartis_annualr...  4228147\n",
            "1  gs://report_insights/novartis/novartis_annualr...  3767323\n",
            "2  gs://report_insights/novartis/novartis_annualr...  3598595\n",
            "3  gs://report_insights/novartis/novartis_annualr...  3990455\n",
            "4  gs://report_insights/novartis/novartis_annualr...  3861068\n",
            "\n",
            "[5 rows x 2 columns]\n"
          ]
        }
      ]
    },
    {
      "cell_type": "markdown",
      "source": [
        "#  ֎ Extract Financial & ESG Data - **Using ML.GENERATE_TEXT**"
      ],
      "metadata": {
        "id": "vyuEomOKrU84"
      },
      "id": "vyuEomOKrU84"
    },
    {
      "cell_type": "code",
      "source": [
        "\n",
        "print(f\"֎ Processing PDFs with {MODEL_NAME}...\")\n",
        "print(f\"This analyzes {company1}, {company2}, and {company3} reports...\")\n",
        "\n",
        "generate_text_sql = f\"\"\"\n",
        "CREATE OR REPLACE TABLE `{QUALIFIED_RAW_TABLE_ID}` AS (\n",
        "SELECT\n",
        "  *\n",
        "FROM\n",
        "  ML.GENERATE_TEXT(\n",
        "    MODEL `{QUALIFIED_MODEL_ID}`,\n",
        "    TABLE `{QUALIFIED_OBJ_TABLE_ID}`,\n",
        "    STRUCT(\n",
        "      '''\n",
        "        You are an expert ESG and Financial analyst. Use only the information provided in the document to answer.\n",
        "        Fetch Financial and Sustainability details and metrics from text, tabular and image data for each PDF.\n",
        "\n",
        "      ''' AS prompt,\n",
        "\n",
        "      0 AS temperature,\n",
        "      8092 AS max_output_tokens\n",
        "    )\n",
        "  )\n",
        "WHERE uri like '%{company1}%' or uri like '%{company2}%' or  uri like '%{company3}%'\n",
        ");\n",
        "\"\"\"\n",
        "#print(\"\\n\\n the SQL \\n\\n\", generate_text_sql)\n",
        "try:\n",
        "    print(\"⏳ Processing... \")\n",
        "    job = client.query(generate_text_sql)\n",
        "    job.result()\n",
        "\n",
        "    # Check results\n",
        "    check_sql = f\"SELECT COUNT(*) as processed_files FROM `{QUALIFIED_RAW_TABLE_ID}`\"\n",
        "    result = client.query(check_sql).result()\n",
        "    count = list(result)[0][0]\n",
        "    print(f\"✅ Successfully processed {count} files!\")\n",
        "\n",
        "except Exception as e:\n",
        "    print(f\"⚠️  Processing issue: {e}\")"
      ],
      "metadata": {
        "id": "BHfkpWRwZ7Lw",
        "outputId": "f99f5a04-cc1d-4f1d-ae0b-d39c6f471595",
        "colab": {
          "base_uri": "https://localhost:8080/"
        }
      },
      "id": "BHfkpWRwZ7Lw",
      "execution_count": 46,
      "outputs": [
        {
          "output_type": "stream",
          "name": "stdout",
          "text": [
            "֎ Processing PDFs with gemini_model_25pro...\n",
            "This analyzes novartis, unitedhealth, and amgen reports...\n",
            "⏳ Processing... \n",
            "✅ Successfully processed 33 files!\n"
          ]
        }
      ]
    },
    {
      "cell_type": "markdown",
      "source": [
        "# 🧹 Extract **Clean** Text Response"
      ],
      "metadata": {
        "id": "Ct2UPyXMrnbD"
      },
      "id": "Ct2UPyXMrnbD"
    },
    {
      "cell_type": "code",
      "source": [
        "print(\"🧹 Cleaning and extracting response text...\")\n",
        "\n",
        "curate_results_sql = f\"\"\"\n",
        "CREATE OR REPLACE TABLE `{QUALIFIED_CURATED_TABLE_ID}` AS\n",
        "SELECT *,\n",
        "  ARRAY_TO_STRING(\n",
        "    ARRAY(\n",
        "      SELECT JSON_VALUE(part, '$.text')\n",
        "      FROM UNNEST(JSON_QUERY_ARRAY(\n",
        "        JSON_QUERY(ml_generate_text_result, '$.candidates[0].content.parts')\n",
        "      )) AS part\n",
        "    ),\n",
        "    ''\n",
        "  ) AS response_text\n",
        "FROM\n",
        "  `{QUALIFIED_RAW_TABLE_ID}`;\n",
        "\"\"\"\n",
        "\n",
        "try:\n",
        "    job = client.query(curate_results_sql)\n",
        "    job.result()\n",
        "    print(\"✅ Response text extracted and cleaned!\")\n",
        "\n",
        "    # Show sample of extracted text\n",
        "    sample_sql = f\"\"\"\n",
        "    SELECT uri, LEFT(response_text, 200) as sample_text\n",
        "    FROM `{QUALIFIED_CURATED_TABLE_ID}`\n",
        "    LIMIT 3\n",
        "    \"\"\"\n",
        "    sample_df = bpd.read_gbq(sample_sql)\n",
        "    print(\"\\n📝 Sample extracted text:\")\n",
        "    for _, row in sample_df.iterrows():\n",
        "        print(f\"File: {row['uri']}\")\n",
        "        print(f\"Text: {row['sample_text']}...\\n\")\n",
        "\n",
        "except Exception as e:\n",
        "    print(f\"⚠️  Text extraction issue: {e}\")"
      ],
      "metadata": {
        "id": "_hLB42ZHW1mV",
        "colab": {
          "base_uri": "https://localhost:8080/"
        },
        "outputId": "2e3a9383-56cc-4a75-ea6d-7479ef9b4b14"
      },
      "id": "_hLB42ZHW1mV",
      "execution_count": 47,
      "outputs": [
        {
          "output_type": "stream",
          "name": "stdout",
          "text": [
            "🧹 Cleaning and extracting response text...\n",
            "✅ Response text extracted and cleaned!\n",
            "\n",
            "📝 Sample extracted text:\n",
            "File: gs://report_insights/amgen/amgen_sustainabilityreport_2024.pdf\n",
            "Text: Here are the financial and sustainability details from the Amgen 2024 Sustainability Highlights Report.\n",
            "\n",
            "### Financial Details\n",
            "\n",
            "| Metric | 2024 | 2023 | Source |\n",
            "| --- | --- | --- | --- |\n",
            "| **Total Re...\n",
            "\n",
            "File: gs://report_insights/amgen/amgen_sustainabilityreport_2023.pdf\n",
            "Text: ```json\n",
            "{\"company_name\": \"Amgen\", \"year\": 2023, \"url\": \"https://www.amgen.com/sustainability/2023-esg-report\", \"source_file\": \"Amgen 2023 ESG Report\", \"financial_and_sustainability_details\": {\"General...\n",
            "\n",
            "File: gs://report_insights/novartis/novartis_sustainability_2021.pdf\n",
            "Text: Based on the \"Novartis in Society Integrated Report 2021,\" here is a summary of the key financial and sustainability details.\n",
            "\n",
            "### Sustainability and ESG\n",
            "\n",
            "#### **Overall ESG Strategy & Performance**\n",
            "-...\n",
            "\n"
          ]
        }
      ]
    },
    {
      "cell_type": "code",
      "source": [
        "from IPython.display import display, Markdown\n",
        "\n",
        "print(f\"֎ Processing PDFs with {MODEL_NAME}...\")\n",
        "print(f\"This analyzes {company1}, {company2}, and {company3} reports...\")\n",
        "\n",
        "user_question=\"'What is the total revenue this year?'\"\n",
        "user_question=\"\"\n",
        "selected_company = \"unitedhealth\"\n",
        "selected_year = \"2024\"\n",
        "selected_report_type=\"annual\"\n",
        "\n",
        "if selected_report_type==\"annual\":\n",
        "  default_questions=\"\"\"\n",
        "CONCAT('Answer all the below questions:',\n",
        "'Read the data and fetch the below details:',\n",
        "'Financial Performance',\n",
        "'What is the total revenue this year?',\n",
        "'How has revenue changed compared to last year?',\n",
        "'What is the net profit or loss?',\n",
        "'How have the earnings per share (EPS) changed?',\n",
        "'Are gross margins improving or declining?',\n",
        "'Are operating margins stable or volatile?',\n",
        "'How has net margin shifted year over year?',\n",
        "'Is cash flow from operations positive and consistent?',\n",
        "'How much free cash flow is available?',\n",
        "'How are working capital levels trending?',\n",
        "\n",
        "'Balance Sheet & Liquidity',\n",
        "'What is the total debt level?',\n",
        "'Is the debt-to-equity ratio rising or falling?',\n",
        "'Does the company have enough liquidity to cover short-term liabilities?',\n",
        "'What is the current ratio and quick ratio?',\n",
        "'How much cash and equivalents are available?',\n",
        "'Are interest expenses sustainable?',\n",
        "'How sensitive is the company to interest rate changes?',\n",
        "'What is the level of contingent liabilities?',\n",
        "\n",
        "'Business Strategy',\n",
        "'What are the company’s core growth initiatives?',\n",
        "'Is management investing in new markets or products?',\n",
        "'How much is spent on research and development (R&D)?',\n",
        "'Are acquisitions or divestitures planned?',\n",
        "'Is the company expanding geographically?',\n",
        "'What is the company competitive advantage?',\n",
        "'Is the advantage sustainable against competitors?',\n",
        "'Is digital transformation a core part of the strategy?',\n",
        "\n",
        "'Risk Factors',\n",
        "'What macroeconomic risks affect the business?',\n",
        "'What industry-specific risks are highlighted?',\n",
        "'What operational risks are disclosed?',\n",
        "'Are supply chain risks material?',\n",
        "'Are legal or regulatory risks mentioned?',\n",
        "'How is foreign exchange risk managed?',\n",
        "'How dependent is revenue on a few customers?',\n",
        "'Are raw material price risks significant?',\n",
        "\n",
        "'Governance & Leadership',\n",
        "'Is the board majority independent?',\n",
        "'How many women or minorities are on the board?',\n",
        "'Is executive compensation performance-linked?',\n",
        "'Does management own significant equity?',\n",
        "'Are shareholder rights well protected?',\n",
        "'Is succession planning disclosed?',\n",
        "'Has management delivered on past promises?',\n",
        "'Is the auditor independent and credible?',\n",
        "\n",
        "'Shareholder Value',\n",
        "'Is the company paying dividends?',\n",
        "'Is the dividend payout sustainable?',\n",
        "'Is the dividend policy clear?',\n",
        "'Are share buybacks taking place?',\n",
        "'Is return on equity (ROE) improving?',\n",
        "'Is return on assets (ROA) stable?',\n",
        "'Has shareholder equity grown consistently?',\n",
        "'What is the earnings guidance for next year?'\n",
        ")\n",
        "\"\"\"\n",
        "else:\n",
        "  default_questions=\"\"\"\n",
        "CONCAT('Answer all the below questions:',\n",
        "'Read the data and fetch the below details:',\n",
        "'Investor Questions – Sustainability Reports',\n",
        "\n",
        "'Environmental',\n",
        "'What is the total Scope 1 emissions?',\n",
        "'What is the total Scope 2 emissions?',\n",
        "'What is the total Scope 3 emissions?',\n",
        "'Are science-based targets disclosed?',\n",
        "'Has the company committed to net-zero?',\n",
        "'What percentage of energy is renewable?',\n",
        "'Is energy efficiency improving year over year?',\n",
        "'What is the total water withdrawal?',\n",
        "'What is water recycled or reused?',\n",
        "'Is the company exposed to water stress?',\n",
        "'How much total waste is generated?',\n",
        "'How much waste is recycled or diverted from landfill?',\n",
        "'Are hazardous waste levels disclosed?',\n",
        "'How sustainable are raw material sourcing practices?',\n",
        "'Are biodiversity risks addressed?',\n",
        "\n",
        "'Social',\n",
        "'What is the total workforce size?',\n",
        "'What percentage of employees are women?',\n",
        "'What percentage of leadership roles are held by women?',\n",
        "'What is minority representation in the workforce?',\n",
        "'What is the employee turnover rate?',\n",
        "'How many workplace injuries occurred?',\n",
        "'What is the lost-time injury frequency rate?',\n",
        "'Are labor rights respected across the supply chain?',\n",
        "'Is child labor risk disclosed in supply chains?',\n",
        "'Are employee training hours increasing per year?',\n",
        "'Are wages above local living wage levels?',\n",
        "'Is there employee engagement survey data?',\n",
        "'What community development initiatives exist?',\n",
        "'What philanthropic contributions were made?',\n",
        "'Is there disclosure on data privacy and cybersecurity?',\n",
        "\n",
        "'Governance (ESG-specific)',\n",
        "'Is there a dedicated board ESG committee?',\n",
        "'How often does the board review ESG matters?',\n",
        "'Is ESG risk included in enterprise risk management?',\n",
        "'Is executive compensation tied to ESG goals?',\n",
        "'Are ESG targets linked to management incentives?',\n",
        "'Is ESG performance externally assured?',\n",
        "'Are ESG disclosures aligned with GRI or SASB?',\n",
        "'Does the company report under TCFD or ISSB?',\n",
        "'Is CDP reporting publicly available?',\n",
        "'Are stakeholder engagement practices disclosed?',\n",
        "\n",
        "'Risk & Opportunity',\n",
        "'What are the identified physical climate risks?',\n",
        "'What are the identified transition risks?',\n",
        "'Is there disclosure on carbon pricing exposure?',\n",
        "'How dependent is revenue on carbon-intensive activities?',\n",
        "'What sustainability-linked opportunities are identified?',\n",
        "'Are green products or services generating revenue?',\n",
        "'Is access to sustainable finance increasing?',\n",
        "'Are suppliers evaluated for ESG performance?',\n",
        "'Are ESG clauses included in supplier contracts?',\n",
        "'Is there disclosure on product lifecycle impacts?'\n",
        ")\n",
        "\"\"\"\n",
        "\n",
        "# -------------------------------\n",
        "# Build prompt\n",
        "# -------------------------------\n",
        "if user_question.strip():\n",
        "    question_block = f\"{user_question}\"\n",
        "else:\n",
        "    question_block = f\"{default_questions}\"\n",
        "\n",
        "\n",
        "\n",
        "generate_text_sql2 = f\"\"\"\n",
        " SELECT\n",
        "    response_text,\n",
        "    AI.GENERATE(\n",
        "    (\n",
        "      CONCAT({question_block}),\n",
        "    response_text),\n",
        "    connection_id => '{PROJECT_LOCATION}.{CLOUD_RES_CONN}',\n",
        "  endpoint => '{MODEL_ENDPOINT}'\n",
        ").result\n",
        "FROM `{QUALIFIED_CURATED_TABLE_ID}`\n",
        "WHERE (uri like '%{selected_company}%')\n",
        "AND uri like '%{selected_year}%'\n",
        "AND uri like '%{selected_report_type}%';\n",
        "\"\"\"\n",
        "\n",
        "\n",
        "\n",
        "#print(\"\\n\\n the SQL \\n\\n\", generate_text_sql)\n",
        "try:\n",
        "    print(\"⏳ Processing... \")\n",
        "    # job = client.query(generate_text_sql2)\n",
        "    # job.result()\n",
        "\n",
        "    sample_df2 = bpd.read_gbq(generate_text_sql2)\n",
        "    print(\"\\n📝 \\n\\n\\n**************************:\")\n",
        "    for _, row in sample_df2.iterrows():\n",
        "      text=row['result']\n",
        "      display(Markdown(text))\n",
        "\n",
        "except Exception as e:\n",
        "    print(f\"⚠️  Processing issue: {e}\")"
      ],
      "metadata": {
        "colab": {
          "base_uri": "https://localhost:8080/",
          "height": 1000
        },
        "id": "t9sZ4I_uO68m",
        "outputId": "d261e938-907f-415b-aff4-3c151ded8526"
      },
      "id": "t9sZ4I_uO68m",
      "execution_count": 50,
      "outputs": [
        {
          "output_type": "stream",
          "name": "stdout",
          "text": [
            "֎ Processing PDFs with gemini_model_25pro...\n",
            "This analyzes novartis, unitedhealth, and amgen reports...\n",
            "⏳ Processing... \n",
            "\n",
            "📝 \n",
            "\n",
            "\n",
            "**************************:\n"
          ]
        },
        {
          "output_type": "display_data",
          "data": {
            "text/plain": [
              "<IPython.core.display.Markdown object>"
            ],
            "text/markdown": "Based on the data provided, here are the details for UnitedHealth Group (UNH) for the 2024 financial year.\n\n### **Financial Performance**\n\n*   **What is the total revenue this year?**\n    The total revenue for 2024 is **$400.28 billion**.\n\n*   **How has revenue changed compared to last year?**\n    This information is not available in the provided data.\n\n*   **What is the net profit or loss?**\n    The net income (profit) for 2024 is **$15.24 billion**.\n\n*   **How have the earnings per share (EPS) changed?**\n    The EPS for 2024 is $15.51. However, the data does not include the previous year's EPS for comparison.\n\n*   **Are gross margins improving or declining?**\n    Information on gross margins is not available.\n\n*   **Are operating margins stable or volatile?**\n    The operating margin for 2024 is **8.1%**. Data for previous years is not provided to assess stability or volatility.\n\n*   **How has net margin shifted year over year?**\n    The net margin for 2024 is approximately 3.8% ($15.24B Net Income / $400.28B Revenue). Data for the previous year is not available for comparison.\n\n*   **Is cash flow from operations positive and consistent?**\n    Cash flow from operations is positive at **$24.2 billion** for 2024. Data from previous years is not available to assess consistency.\n\n*   **How much free cash flow is available?**\n    This information is not available, as capital expenditures are not listed.\n\n*   **How are working capital levels trending?**\n    This information is not available, as current assets and current liabilities are not broken out.\n\n### **Balance Sheet & Liquidity**\n\n*   **What is the total debt level?**\n    The specific total debt level is not provided, but total liabilities are **$195.69 billion**.\n\n*   **Is the debt-to-equity ratio rising or falling?**\n    The debt-to-equity ratio for 2024 is approximately **1.91** (using total liabilities of $195.69B / calculated equity of $102.59B). Data from previous years is not available to determine the trend.\n\n*   **Does the company have enough liquidity to cover short-term liabilities?**\n    This information is not available, as current assets and liabilities are not specified.\n\n*   **What is the current ratio and quick ratio?**\n    This information is not available.\n\n*   **How much cash and equivalents are available?**\n    The balance of cash and equivalents is not available in the provided data.\n\n*   **Are interest expenses sustainable?**\n    This information is not available. However, the company holds strong investment-grade credit ratings (A+/A2/A) with a stable outlook, suggesting its debt obligations are considered manageable.\n\n*   **How sensitive is the company to interest rate changes?**\n    This information is not available.\n\n*   **What is the level of contingent liabilities?**\n    This information is not available.\n\n### **Business Strategy**\n\n*   **What are the company’s core growth initiatives?**\n    Growth is driven by its four major segments: **UnitedHealthcare** (health benefits), **Optum Health** (care delivery), **Optum Insight** (data, analytics, technology), and **Optum Rx** (pharmacy services).\n\n*   **Is management investing in new markets or products?**\n    Yes, the significant revenue from the Optum segments (Health, Insight, Rx) indicates substantial investment and diversification beyond traditional health insurance into care delivery, technology, and pharmacy benefit management.\n\n*   **How much is spent on research and development (R&D)?**\n    This information is not available.\n\n*   **Are acquisitions or divestitures planned?**\n    This information is not available.\n\n*   **Is the company expanding geographically?**\n    This information is not available.\n\n*   **What is the company competitive advantage?**\n    Its key advantage is its **scale and vertically integrated model**, combining a massive insurance business (UnitedHealthcare) with a comprehensive health services platform (Optum). This allows for data-driven insights, cost efficiencies, and a broad market reach.\n\n*   **Is the advantage sustainable against competitors?**\n    Yes, the scale of its operations (serving over 100 million people through its various segments) and its integrated structure would be very difficult for competitors to replicate. Strong, stable credit ratings further support this view.\n\n*   **Is digital transformation a core part of the strategy?**\n    Yes. The existence of the **Optum Insight** segment, with over $18.7 billion in revenue, and the company's central role in healthcare technology (evidenced by the Change Healthcare business) confirm that data and digital transformation are core to its strategy.\n\n### **Risk Factors**\n\n*   **What macroeconomic risks affect the business?**\n    The company identifies risks associated with **public health crises, natural disasters** (wildfires, hurricanes), and the **effects of climate change**, which can increase medical costs.\n\n*   **What industry-specific risks are highlighted?**\n    **Cybersecurity** is a major highlighted risk, exemplified by the 2024 cyberattack on its Change Healthcare business. Another is the financial risk associated with estimating **Medical Care Services Incurred but not Reported (IBNR)**.\n\n*   **What operational risks are disclosed?**\n    A significant operational risk is the failure of IT systems and cybersecurity. The **Change Healthcare cyberattack** is cited as a material event, with **$2.2 billion in direct response costs**.\n\n*   **Are supply chain risks material?**\n    This information is not available.\n\n*   **Are legal or regulatory risks mentioned?**\n    The data mentions policies responding to regulation (e.g., Dodd-Frank Clawback Policy) but does not detail specific legal or regulatory challenges.\n\n*   **How is foreign exchange risk managed?**\n    This information is not available.\n\n*   **How dependent is revenue on a few customers?**\n    This information is not directly available, but with over 50 million medical members, the company appears to have a highly diversified customer base.\n\n*   **Are raw material price risks significant?**\n    Yes. The company's primary \"raw material\" is medical care services. The risk that **medical costs could exceed estimates** is noted as a key business risk. The Medical Care Ratio (MCR) of 85.5% highlights the significance of these costs.\n\n### **Governance & Leadership**\n\n*   **Is the board majority independent?**\n    The data notes the presence of a **Lead Independent Director**, which implies an independent board structure, but the exact percentage of independent directors is not specified.\n\n*   **How many women or minorities are on the board?**\n    The Lead Independent Director, Michele Hooper, is a woman. No other board diversity statistics are provided.\n\n*   **Is executive compensation performance-linked?**\n    Yes. The data notes that the \"Employee Experience Index\" is a metric included in the \"annual incentive plan.\"\n\n*   **Does management own significant equity?**\n    This information is not available.\n\n*   **Are shareholder rights well protected?**\n    Governance mechanisms such as a **Lead Independent Director, a Code of Conduct, and a Dodd-Frank Clawback Policy** are in place to protect shareholder rights.\n\n*   **Is succession planning disclosed?**\n    This information is not available.\n\n*   **Has management delivered on past promises?**\n    This information is not available in the provided data.\n\n*   **Is the auditor independent and credible?**\n    Yes, the auditor is **Deloitte & Touche LLP**, a large, credible \"Big Four\" accounting firm.\n\n### **Shareholder Value**\n\n*   **Is the company paying dividends?**\n    Yes, the company paid **$7.53 billion in cash dividends** in 2024.\n\n*   **Is the dividend payout sustainable?**\n    Yes. The dividend represents approximately **49.4%** of net income, which is generally considered a sustainable payout ratio.\n\n*   **Is the dividend policy clear?**\n    The data confirms dividends are paid but does not describe a specific policy.\n\n*   **Are share buybacks taking place?**\n    Yes, the company conducted **$9.0 billion in common share repurchases** in 2024.\n\n*   **Is return on equity (ROE) improving?**\n    The ROE for 2024 is **15.9%**. Data from the previous year is not provided to determine the trend.\n\n*   **Is return on assets (ROA) stable?**\n    The ROA for 2024 is approximately **5.1%**. Data from previous years is not available to assess its stability.\n\n*   **Has shareholder equity grown consistently?**\n    Shareholder equity for 2024 is **$102.59 billion**. Data from previous years is not available to assess the consistency of its growth.\n\n*   **What is the earnings guidance for next year?**\n    This information is not available."
          },
          "metadata": {}
        }
      ]
    },
    {
      "cell_type": "markdown",
      "source": [
        "# 📊 Extract Structured Metrics - **Using AI.GENERATE_TABLE**"
      ],
      "metadata": {
        "id": "7u1iCJairu6y"
      },
      "id": "7u1iCJairu6y"
    },
    {
      "cell_type": "code",
      "source": [
        "\n",
        "print(\"📊 Generating structured financial and ESG metrics...\")\n",
        "\n",
        "generate_table_sql = f\"\"\"\n",
        "CREATE OR REPLACE TABLE `{QUALIFIED_FINAL_TABLE_ID}` AS\n",
        "SELECT *,\n",
        "    DATE(CAST(fiscal_year AS STRING) || \"-01-01\") AS fiscal_year_date,\n",
        "    CASE\n",
        "        WHEN uri LIKE '%{company1}%' THEN '{company1}'\n",
        "        WHEN uri LIKE '%{company2}%' THEN '{company2}'\n",
        "        WHEN uri LIKE '%{company3}%' THEN '{company3}'\n",
        "    END as company_name_formatted\n",
        "FROM (\n",
        "    SELECT *\n",
        "    FROM AI.GENERATE_TABLE(\n",
        "        MODEL `{QUALIFIED_MODEL_ID}`,\n",
        "        (\n",
        "            SELECT CONCAT(\n",
        "                \"You are an expert financial analyst and ESG/Climate analyst. Extract all financial metrics and sustainability metrics and KPIs from the provided text into structured data. \",\n",
        "                \"For Annual reports, focus on getting the financial metrics. And for Sustainability reports focus on getting ESG metrics. \",\n",
        "                \"Normalize numbers by removing commas, spaces, or symbols and convert all money values to dollars. \",\n",
        "                \"TEXT: \",\n",
        "                response_text\n",
        "            ) AS prompt,\n",
        "            response_text as extracted_text,\n",
        "            uri AS uri\n",
        "        FROM `{QUALIFIED_CURATED_TABLE_ID}`\n",
        "        ),\n",
        "        STRUCT(\n",
        "            'uris STRING, report_type STRING, company_name STRING, fiscal_year INT64, revenue_millions FLOAT64, net_income_millions FLOAT64, total_assets_millions FLOAT64, total_liabilities_millions FLOAT64, equity_millions FLOAT64, eps_basic FLOAT64, eps_diluted FLOAT64, dividends_per_share FLOAT64, employee_count INT64, business_segments ARRAY<STRING>, total_ghg_emissions FLOAT64, scope_1_ghg_emissions FLOAT64, scope_2_ghg_emissions FLOAT64, scope_3_ghg_emissions FLOAT64, carbon_intensity FLOAT64, energy_consumption FLOAT64, renewable_energy_usage FLOAT64, water_consumption FLOAT64, waste_generated FLOAT64, waste_recycled FLOAT64, sustainable_financing FLOAT64, reporting_period STRING, page_references ARRAY<STRING>, contexts ARRAY<STRING>, verbatim_quotes ARRAY<STRING>'\n",
        "            AS output_schema,\n",
        "            8192 AS max_output_tokens,\n",
        "            0 AS temperature\n",
        "        )\n",
        "    ) t\n",
        ");\n",
        "\"\"\"\n",
        "\n",
        "try:\n",
        "    print(\"⏳ Structuring data... This may take 3-4 minutes\")\n",
        "    job = client.query(generate_table_sql)\n",
        "    job.result()\n",
        "    print(\"✅ Structured metrics extracted successfully!\")\n",
        "\n",
        "except Exception as e:\n",
        "    print(f\"⚠️  Table generation issue: {e}\")"
      ],
      "metadata": {
        "id": "2QOTj5J1XUW4",
        "colab": {
          "base_uri": "https://localhost:8080/"
        },
        "outputId": "9aa22682-5acb-4170-f2dd-1e7e40b763e8"
      },
      "id": "2QOTj5J1XUW4",
      "execution_count": 51,
      "outputs": [
        {
          "output_type": "stream",
          "name": "stdout",
          "text": [
            "📊 Generating structured financial and ESG metrics...\n",
            "⏳ Structuring data... This may take 3-4 minutes\n",
            "✅ Structured metrics extracted successfully!\n"
          ]
        }
      ]
    },
    {
      "cell_type": "markdown",
      "source": [
        "# Generate **Metric Table**\n",
        "---\n",
        "\n"
      ],
      "metadata": {
        "id": "QAwsY7BWr0l1"
      },
      "id": "QAwsY7BWr0l1"
    },
    {
      "cell_type": "code",
      "source": [
        "\n",
        "print(\"🔮 Generating metrics table\")\n",
        "\n",
        "metrics_sql = f\"\"\"\n",
        "CREATE OR REPLACE TABLE `{QUALIFIED_METRICS_TABLE_ID}` AS\n",
        "SELECT * FROM\n",
        "    ( SELECT\n",
        "        uri, fiscal_year,\n",
        "        extracted_text, company_name_formatted as company_name,\n",
        "        -- Determine report_type based on URI\n",
        "        CASE\n",
        "            WHEN LOWER(uri) LIKE '%annual%' THEN 'Annual'\n",
        "            WHEN LOWER(uri) LIKE '%sustainability%' THEN 'Sustainability'\n",
        "            ELSE 'Other'\n",
        "        END AS report_type,\n",
        "        fiscal_year_date,\n",
        "        reporting_period ,\n",
        "        -- Financial metrics: keep if Annual, else 0\n",
        "        CASE WHEN LOWER(uri) LIKE '%annual%' THEN revenue_millions ELSE 0 END AS revenue_millions,\n",
        "        CASE WHEN LOWER(uri) LIKE '%annual%' THEN net_income_millions ELSE 0 END AS net_income_millions,\n",
        "        CASE WHEN LOWER(uri) LIKE '%annual%' THEN total_assets_millions ELSE 0 END AS total_assets_millions,\n",
        "        CASE WHEN LOWER(uri) LIKE '%annual%' THEN total_liabilities_millions ELSE 0 END AS total_liabilities_millions,\n",
        "        CASE WHEN LOWER(uri) LIKE '%annual%' THEN equity_millions ELSE 0 END AS equity_millions,\n",
        "        CASE WHEN LOWER(uri) LIKE '%annual%' THEN dividends_per_share ELSE 0 END AS dividends_per_share,\n",
        "        CASE WHEN LOWER(uri) LIKE '%annual%' THEN eps_basic ELSE 0 END AS eps_basic,\n",
        "        CASE WHEN LOWER(uri) LIKE '%annual%' THEN eps_diluted ELSE 0 END AS eps_diluted,\n",
        "        CASE WHEN LOWER(uri) LIKE '%annual%' THEN employee_count ELSE 0 END AS employee_count,\n",
        "        CASE WHEN LOWER(uri) LIKE '%annual%' THEN sustainable_financing ELSE 0 END AS sustainable_financing,\n",
        "\n",
        "        -- Sustainability metrics: keep if Sustainability report, else 0\n",
        "        CASE WHEN LOWER(uri) LIKE '%sustainability%' THEN carbon_intensity ELSE 0 END AS carbon_intensity,\n",
        "        CASE WHEN LOWER(uri) LIKE '%sustainability%' THEN energy_consumption ELSE 0 END AS energy_consumption,\n",
        "        CASE WHEN LOWER(uri) LIKE '%sustainability%' THEN renewable_energy_usage ELSE 0 END AS renewable_energy_usage,\n",
        "        CASE WHEN LOWER(uri) LIKE '%sustainability%' THEN scope_1_ghg_emissions ELSE 0 END AS scope_1_ghg_emissions,\n",
        "        CASE WHEN LOWER(uri) LIKE '%sustainability%' THEN scope_2_ghg_emissions ELSE 0 END AS scope_2_ghg_emissions,\n",
        "        CASE WHEN LOWER(uri) LIKE '%sustainability%' THEN scope_3_ghg_emissions ELSE 0 END AS scope_3_ghg_emissions,\n",
        "        CASE WHEN LOWER(uri) LIKE '%sustainability%' THEN total_ghg_emissions ELSE 0 END AS total_ghg_emissions,\n",
        "        CASE WHEN LOWER(uri) LIKE '%sustainability%' THEN water_consumption ELSE 0 END AS water_consumption,\n",
        "        CASE WHEN LOWER(uri) LIKE '%sustainability%' THEN waste_generated ELSE 0 END AS waste_generated,\n",
        "        CASE WHEN LOWER(uri) LIKE '%sustainability%' THEN waste_recycled ELSE 0 END AS waste_recycled\n",
        "\n",
        "     FROM `{QUALIFIED_FINAL_TABLE_ID}`\n",
        "     ) t\n",
        "-- WHERE report_type != 'Annual';\n",
        "\n",
        "\"\"\"\n",
        "\n",
        "print(\"⏳ fetching metrics...\")\n",
        "job = client.query(metrics_sql)\n",
        "job.result()\n",
        "print(\"✅ Metrics table created successfully!\")"
      ],
      "metadata": {
        "colab": {
          "base_uri": "https://localhost:8080/"
        },
        "id": "ThCi0WF28s_6",
        "outputId": "a61657e5-5afc-466a-99e1-5b860c9a1179"
      },
      "id": "ThCi0WF28s_6",
      "execution_count": 52,
      "outputs": [
        {
          "output_type": "stream",
          "name": "stdout",
          "text": [
            "🔮 Generating metrics table\n",
            "⏳ fetching metrics...\n",
            "✅ Metrics table created successfully!\n"
          ]
        }
      ]
    },
    {
      "cell_type": "markdown",
      "source": [
        "# 🔮 Revenue Forecasting with AI.FORECAST & TimesFM 2.0\n"
      ],
      "metadata": {
        "id": "ysUQR9JfBTzt"
      },
      "id": "ysUQR9JfBTzt"
    },
    {
      "cell_type": "code",
      "source": [
        "print(\"🔮 Generating revenue forecasts with TimesFM 2.0...\")\n",
        "\n",
        "forecast_sql = f\"\"\"\n",
        "CREATE OR REPLACE TABLE `{QUALIFIED_FORECAST_TABLE_ID}` AS\n",
        "SELECT\n",
        "  *\n",
        "FROM\n",
        "  AI.FORECAST(\n",
        "    TABLE `{QUALIFIED_METRICS_TABLE_ID}`,\n",
        "    data_col => 'revenue_millions',\n",
        "    timestamp_col => 'fiscal_year_date',\n",
        "    model => 'TimesFM 2.0',\n",
        "    id_cols => ['company_name'],\n",
        "    horizon => 5,\n",
        "    confidence_level => .95\n",
        "  )\n",
        "\"\"\"\n",
        "\n",
        "print(\"⏳ Forecasting...\")\n",
        "job = client.query(forecast_sql)\n",
        "job.result()\n",
        "print(\"✅ Forecast table created successfully!\")"
      ],
      "metadata": {
        "id": "QjS1OIZwmIZg",
        "colab": {
          "base_uri": "https://localhost:8080/"
        },
        "outputId": "9aed2ba9-c5a1-4110-d95c-81e07fe740ed"
      },
      "id": "QjS1OIZwmIZg",
      "execution_count": 53,
      "outputs": [
        {
          "output_type": "stream",
          "name": "stdout",
          "text": [
            "🔮 Generating revenue forecasts with TimesFM 2.0...\n",
            "⏳ Forecasting...\n",
            "✅ Forecast table created successfully!\n"
          ]
        }
      ]
    },
    {
      "cell_type": "markdown",
      "source": [
        "# Output 1\n",
        "### Financial/ESG Details for pre-defined questions for selected company and fiscal_year and report type"
      ],
      "metadata": {
        "id": "m94nToNTEGmE"
      },
      "id": "m94nToNTEGmE"
    },
    {
      "cell_type": "code",
      "source": [
        "from IPython.display import display, Markdown\n",
        "\n",
        "\n",
        "# --- Load your BigQuery table ---\n",
        "#df = bpd.read_gbq(f\"{QUALIFIED_METRICS_TABLE_ID}\")\n",
        "metrics_sql1 = f\"\"\"\n",
        "SELECT *\n",
        "FROM `{QUALIFIED_METRICS_TABLE_ID}`\n",
        "\"\"\"\n",
        "df = bpd.read_gbq(metrics_sql1)\n",
        "\n",
        "# --- Choose which report to display ---\n",
        "company = \"bankofmontreal\"\n",
        "year = 2021\n",
        "rtype = \"Annual\"   # \"Annual\" or \"Sustainability Report\"\n",
        "\n",
        "# --- Filter ---\n",
        "filtered = df[\n",
        "    (df[\"company_name\"] == company)\n",
        "    & (df[\"fiscal_year\"] == year)\n",
        "    & (df[\"report_type\"] == rtype)\n",
        "]\n",
        "\n",
        "# --- Display pretty ---\n",
        "if not filtered.empty:\n",
        "    text = filtered[\"extracted_text\"].iloc[0]\n",
        "    display(Markdown(text))\n",
        "else:\n",
        "    print(\"No report found for that selection.\")\n",
        "    # --- Grab the first row (or loop if multiple) ---\n",
        "    text = df[\"extracted_text\"].iloc[0]\n",
        "\n",
        "    # --- Pretty display in Colab ---\n",
        "    print(\"\\n\\n===========================================================================\\n\\n\")\n",
        "    display(Markdown(text))"
      ],
      "metadata": {
        "id": "GvZ-uUFN_ow6"
      },
      "id": "GvZ-uUFN_ow6",
      "execution_count": null,
      "outputs": []
    },
    {
      "cell_type": "markdown",
      "source": [
        "# Fetch Metrics Table as Pandas Dataframe\n",
        "* ## Colab offers AI tools to auto-generate plots on pandas\n",
        "* ## We can use: Gen-code, View recommended plots, Interactive\n",
        "* ## More results at the end of the page"
      ],
      "metadata": {
        "id": "i-kjTwSePPMi"
      },
      "id": "i-kjTwSePPMi"
    },
    {
      "cell_type": "code",
      "source": [
        "metrics_sql1 = f\"\"\"\n",
        "SELECT *\n",
        "FROM `{QUALIFIED_METRICS_TABLE_ID}`\n",
        "\"\"\"\n",
        "df_metrics = bpd.read_gbq(metrics_sql1)\n",
        "\n",
        "#df_metrics = bpd.read_gbq(f\"{QUALIFIED_METRICS_TABLE_ID}\")\n",
        "# Create the dataset\n",
        "df = df_metrics[['fiscal_year', 'company_name', 'report_type',   'revenue_millions', 'net_income_millions',\n",
        "                 'total_assets_millions', 'employee_count',   'scope_1_ghg_emissions',\n",
        "                 'scope_2_ghg_emissions', 'scope_3_ghg_emissions', 'total_ghg_emissions' ]].to_pandas()\n",
        "df.head(33)"
      ],
      "metadata": {
        "colab": {
          "base_uri": "https://localhost:8080/",
          "height": 1000
        },
        "id": "rWY0QYhxH9me",
        "outputId": "28a92d60-f94e-4e0b-d076-6e43cf88319c"
      },
      "id": "rWY0QYhxH9me",
      "execution_count": 63,
      "outputs": [
        {
          "output_type": "execute_result",
          "data": {
            "text/plain": [
              "    fiscal_year  company_name     report_type  revenue_millions  \\\n",
              "0          2019         amgen          Annual           23400.0   \n",
              "1          2021         amgen          Annual           25979.0   \n",
              "2          2020         amgen          Annual           25400.0   \n",
              "3          2022         amgen          Annual           26300.0   \n",
              "4          2023         amgen          Annual           28190.0   \n",
              "5          2024         amgen          Annual           33424.0   \n",
              "6          2024      novartis          Annual           50317.0   \n",
              "7          2023      novartis          Annual           45440.0   \n",
              "8          2022      novartis          Annual           50545.0   \n",
              "9          2019      novartis          Annual           47445.0   \n",
              "10         2021      novartis          Annual           51626.0   \n",
              "11         2020      novartis          Annual           48659.0   \n",
              "12         2020  unitedhealth          Annual          257141.0   \n",
              "13         2021  unitedhealth          Annual          287597.0   \n",
              "14         2024  unitedhealth          Annual          400278.0   \n",
              "15         2022  unitedhealth          Annual          324162.0   \n",
              "16         2023  unitedhealth          Annual          371622.0   \n",
              "17         2023         amgen  Sustainability               0.0   \n",
              "18         2021         amgen  Sustainability               0.0   \n",
              "19         2020         amgen  Sustainability               0.0   \n",
              "20         2022         amgen  Sustainability               0.0   \n",
              "21         2024         amgen  Sustainability               0.0   \n",
              "22         2021  unitedhealth  Sustainability               0.0   \n",
              "23         2024      novartis  Sustainability               0.0   \n",
              "24         2023      novartis  Sustainability               0.0   \n",
              "25         2024  unitedhealth  Sustainability               0.0   \n",
              "26         2023  unitedhealth  Sustainability               0.0   \n",
              "27         2022  unitedhealth  Sustainability               0.0   \n",
              "28         2022      novartis  Sustainability               0.0   \n",
              "29         2019      novartis  Sustainability               0.0   \n",
              "30         2020      novartis  Sustainability               0.0   \n",
              "31         2021      novartis  Sustainability               0.0   \n",
              "32         2020  unitedhealth  Sustainability               0.0   \n",
              "\n",
              "    net_income_millions  total_assets_millions  employee_count  \\\n",
              "0                7800.0                59700.0           23400   \n",
              "1                5893.0                61165.0           24200   \n",
              "2                7300.0                62900.0           24300   \n",
              "3                6600.0                65100.0           25200   \n",
              "4                6717.0                97154.0           26700   \n",
              "5                4090.0                91839.0           28000   \n",
              "6               11939.0               102246.0           75883   \n",
              "7                8572.0                99945.0           76057   \n",
              "8                6955.0               117453.0          101703   \n",
              "9               11737.0               118370.0          103914   \n",
              "10              24018.0               131795.0          104323   \n",
              "11               8071.0               132059.0          105794   \n",
              "12              15403.0               197289.0          330000   \n",
              "13              17285.0               212206.0          350000   \n",
              "14              15242.0               298278.0          400000   \n",
              "15              20120.0               245705.0          400000   \n",
              "16              22381.0               273720.0          440000   \n",
              "17                  0.0                    0.0               0   \n",
              "18                  0.0                    0.0               0   \n",
              "19                  0.0                    0.0               0   \n",
              "20                  0.0                    0.0               0   \n",
              "21                  0.0                    0.0               0   \n",
              "22                  0.0                    0.0               0   \n",
              "23                  0.0                    0.0               0   \n",
              "24                  0.0                    0.0               0   \n",
              "25                  0.0                    0.0               0   \n",
              "26                  0.0                    0.0               0   \n",
              "27                  0.0                    0.0               0   \n",
              "28                  0.0                    0.0               0   \n",
              "29                  0.0                    0.0               0   \n",
              "30                  0.0                    0.0               0   \n",
              "31                  0.0                    0.0               0   \n",
              "32                  0.0                    0.0               0   \n",
              "\n",
              "    scope_1_ghg_emissions  scope_2_ghg_emissions  scope_3_ghg_emissions  \\\n",
              "0                     0.0                    0.0                    0.0   \n",
              "1                     0.0                    0.0                    0.0   \n",
              "2                     0.0                    0.0                    0.0   \n",
              "3                     0.0                    0.0                    0.0   \n",
              "4                     0.0                    0.0                    0.0   \n",
              "5                     0.0                    0.0                    0.0   \n",
              "6                     0.0                    0.0                    0.0   \n",
              "7                     0.0                    0.0                    0.0   \n",
              "8                     0.0                    0.0                    0.0   \n",
              "9                     0.0                    0.0                    0.0   \n",
              "10                    0.0                    0.0                    0.0   \n",
              "11                    0.0                    0.0                    0.0   \n",
              "12                    0.0                    0.0                    0.0   \n",
              "13                    0.0                    0.0                    0.0   \n",
              "14                    0.0                    0.0                    0.0   \n",
              "15                    0.0                    0.0                    0.0   \n",
              "16                    0.0                    0.0                    0.0   \n",
              "17               117000.0                48000.0              4100000.0   \n",
              "18               155000.0                    0.0                    0.0   \n",
              "19               138000.0               105000.0              2400000.0   \n",
              "20                    0.0                    0.0                    0.0   \n",
              "21                    0.0                    0.0                    0.0   \n",
              "22                97537.0               322472.0                88465.0   \n",
              "23               207000.0                30000.0              4350300.0   \n",
              "24               248700.0                49400.0              4707900.0   \n",
              "25               105782.0               265661.0             17977601.0   \n",
              "26               139361.0               413101.0             18302644.0   \n",
              "27               122356.0               383896.0             13788578.0   \n",
              "28               347200.0               154900.0              8770000.0   \n",
              "29               483300.0               411900.0               205800.0   \n",
              "30               345000.0               443600.0              8900000.0   \n",
              "31               323500.0               323500.0                35500.0   \n",
              "32                   <NA>                   <NA>                   <NA>   \n",
              "\n",
              "    total_ghg_emissions  \n",
              "0                   0.0  \n",
              "1                   0.0  \n",
              "2                   0.0  \n",
              "3                   0.0  \n",
              "4                   0.0  \n",
              "5                   0.0  \n",
              "6                   0.0  \n",
              "7                   0.0  \n",
              "8                   0.0  \n",
              "9                   0.0  \n",
              "10                  0.0  \n",
              "11                  0.0  \n",
              "12                  0.0  \n",
              "13                  0.0  \n",
              "14                  0.0  \n",
              "15                  0.0  \n",
              "16                  0.0  \n",
              "17             165000.0  \n",
              "18             155000.0  \n",
              "19            2643000.0  \n",
              "20             165000.0  \n",
              "21             121000.0  \n",
              "22             508474.0  \n",
              "23            4587300.0  \n",
              "24            5006000.0  \n",
              "25           18349044.0  \n",
              "26           18855106.0  \n",
              "27           14294830.0  \n",
              "28            9272100.0  \n",
              "29             895100.0  \n",
              "30             788600.0  \n",
              "31             682500.0  \n",
              "32                 <NA>  "
            ],
            "text/html": [
              "\n",
              "  <div id=\"df-de24cec6-1b9c-49c6-9eb4-f69321ecf5ca\" class=\"colab-df-container\">\n",
              "    <div>\n",
              "<style scoped>\n",
              "    .dataframe tbody tr th:only-of-type {\n",
              "        vertical-align: middle;\n",
              "    }\n",
              "\n",
              "    .dataframe tbody tr th {\n",
              "        vertical-align: top;\n",
              "    }\n",
              "\n",
              "    .dataframe thead th {\n",
              "        text-align: right;\n",
              "    }\n",
              "</style>\n",
              "<table border=\"1\" class=\"dataframe\">\n",
              "  <thead>\n",
              "    <tr style=\"text-align: right;\">\n",
              "      <th></th>\n",
              "      <th>fiscal_year</th>\n",
              "      <th>company_name</th>\n",
              "      <th>report_type</th>\n",
              "      <th>revenue_millions</th>\n",
              "      <th>net_income_millions</th>\n",
              "      <th>total_assets_millions</th>\n",
              "      <th>employee_count</th>\n",
              "      <th>scope_1_ghg_emissions</th>\n",
              "      <th>scope_2_ghg_emissions</th>\n",
              "      <th>scope_3_ghg_emissions</th>\n",
              "      <th>total_ghg_emissions</th>\n",
              "    </tr>\n",
              "  </thead>\n",
              "  <tbody>\n",
              "    <tr>\n",
              "      <th>0</th>\n",
              "      <td>2019</td>\n",
              "      <td>amgen</td>\n",
              "      <td>Annual</td>\n",
              "      <td>23400.0</td>\n",
              "      <td>7800.0</td>\n",
              "      <td>59700.0</td>\n",
              "      <td>23400</td>\n",
              "      <td>0.0</td>\n",
              "      <td>0.0</td>\n",
              "      <td>0.0</td>\n",
              "      <td>0.0</td>\n",
              "    </tr>\n",
              "    <tr>\n",
              "      <th>1</th>\n",
              "      <td>2021</td>\n",
              "      <td>amgen</td>\n",
              "      <td>Annual</td>\n",
              "      <td>25979.0</td>\n",
              "      <td>5893.0</td>\n",
              "      <td>61165.0</td>\n",
              "      <td>24200</td>\n",
              "      <td>0.0</td>\n",
              "      <td>0.0</td>\n",
              "      <td>0.0</td>\n",
              "      <td>0.0</td>\n",
              "    </tr>\n",
              "    <tr>\n",
              "      <th>2</th>\n",
              "      <td>2020</td>\n",
              "      <td>amgen</td>\n",
              "      <td>Annual</td>\n",
              "      <td>25400.0</td>\n",
              "      <td>7300.0</td>\n",
              "      <td>62900.0</td>\n",
              "      <td>24300</td>\n",
              "      <td>0.0</td>\n",
              "      <td>0.0</td>\n",
              "      <td>0.0</td>\n",
              "      <td>0.0</td>\n",
              "    </tr>\n",
              "    <tr>\n",
              "      <th>3</th>\n",
              "      <td>2022</td>\n",
              "      <td>amgen</td>\n",
              "      <td>Annual</td>\n",
              "      <td>26300.0</td>\n",
              "      <td>6600.0</td>\n",
              "      <td>65100.0</td>\n",
              "      <td>25200</td>\n",
              "      <td>0.0</td>\n",
              "      <td>0.0</td>\n",
              "      <td>0.0</td>\n",
              "      <td>0.0</td>\n",
              "    </tr>\n",
              "    <tr>\n",
              "      <th>4</th>\n",
              "      <td>2023</td>\n",
              "      <td>amgen</td>\n",
              "      <td>Annual</td>\n",
              "      <td>28190.0</td>\n",
              "      <td>6717.0</td>\n",
              "      <td>97154.0</td>\n",
              "      <td>26700</td>\n",
              "      <td>0.0</td>\n",
              "      <td>0.0</td>\n",
              "      <td>0.0</td>\n",
              "      <td>0.0</td>\n",
              "    </tr>\n",
              "    <tr>\n",
              "      <th>5</th>\n",
              "      <td>2024</td>\n",
              "      <td>amgen</td>\n",
              "      <td>Annual</td>\n",
              "      <td>33424.0</td>\n",
              "      <td>4090.0</td>\n",
              "      <td>91839.0</td>\n",
              "      <td>28000</td>\n",
              "      <td>0.0</td>\n",
              "      <td>0.0</td>\n",
              "      <td>0.0</td>\n",
              "      <td>0.0</td>\n",
              "    </tr>\n",
              "    <tr>\n",
              "      <th>6</th>\n",
              "      <td>2024</td>\n",
              "      <td>novartis</td>\n",
              "      <td>Annual</td>\n",
              "      <td>50317.0</td>\n",
              "      <td>11939.0</td>\n",
              "      <td>102246.0</td>\n",
              "      <td>75883</td>\n",
              "      <td>0.0</td>\n",
              "      <td>0.0</td>\n",
              "      <td>0.0</td>\n",
              "      <td>0.0</td>\n",
              "    </tr>\n",
              "    <tr>\n",
              "      <th>7</th>\n",
              "      <td>2023</td>\n",
              "      <td>novartis</td>\n",
              "      <td>Annual</td>\n",
              "      <td>45440.0</td>\n",
              "      <td>8572.0</td>\n",
              "      <td>99945.0</td>\n",
              "      <td>76057</td>\n",
              "      <td>0.0</td>\n",
              "      <td>0.0</td>\n",
              "      <td>0.0</td>\n",
              "      <td>0.0</td>\n",
              "    </tr>\n",
              "    <tr>\n",
              "      <th>8</th>\n",
              "      <td>2022</td>\n",
              "      <td>novartis</td>\n",
              "      <td>Annual</td>\n",
              "      <td>50545.0</td>\n",
              "      <td>6955.0</td>\n",
              "      <td>117453.0</td>\n",
              "      <td>101703</td>\n",
              "      <td>0.0</td>\n",
              "      <td>0.0</td>\n",
              "      <td>0.0</td>\n",
              "      <td>0.0</td>\n",
              "    </tr>\n",
              "    <tr>\n",
              "      <th>9</th>\n",
              "      <td>2019</td>\n",
              "      <td>novartis</td>\n",
              "      <td>Annual</td>\n",
              "      <td>47445.0</td>\n",
              "      <td>11737.0</td>\n",
              "      <td>118370.0</td>\n",
              "      <td>103914</td>\n",
              "      <td>0.0</td>\n",
              "      <td>0.0</td>\n",
              "      <td>0.0</td>\n",
              "      <td>0.0</td>\n",
              "    </tr>\n",
              "    <tr>\n",
              "      <th>10</th>\n",
              "      <td>2021</td>\n",
              "      <td>novartis</td>\n",
              "      <td>Annual</td>\n",
              "      <td>51626.0</td>\n",
              "      <td>24018.0</td>\n",
              "      <td>131795.0</td>\n",
              "      <td>104323</td>\n",
              "      <td>0.0</td>\n",
              "      <td>0.0</td>\n",
              "      <td>0.0</td>\n",
              "      <td>0.0</td>\n",
              "    </tr>\n",
              "    <tr>\n",
              "      <th>11</th>\n",
              "      <td>2020</td>\n",
              "      <td>novartis</td>\n",
              "      <td>Annual</td>\n",
              "      <td>48659.0</td>\n",
              "      <td>8071.0</td>\n",
              "      <td>132059.0</td>\n",
              "      <td>105794</td>\n",
              "      <td>0.0</td>\n",
              "      <td>0.0</td>\n",
              "      <td>0.0</td>\n",
              "      <td>0.0</td>\n",
              "    </tr>\n",
              "    <tr>\n",
              "      <th>12</th>\n",
              "      <td>2020</td>\n",
              "      <td>unitedhealth</td>\n",
              "      <td>Annual</td>\n",
              "      <td>257141.0</td>\n",
              "      <td>15403.0</td>\n",
              "      <td>197289.0</td>\n",
              "      <td>330000</td>\n",
              "      <td>0.0</td>\n",
              "      <td>0.0</td>\n",
              "      <td>0.0</td>\n",
              "      <td>0.0</td>\n",
              "    </tr>\n",
              "    <tr>\n",
              "      <th>13</th>\n",
              "      <td>2021</td>\n",
              "      <td>unitedhealth</td>\n",
              "      <td>Annual</td>\n",
              "      <td>287597.0</td>\n",
              "      <td>17285.0</td>\n",
              "      <td>212206.0</td>\n",
              "      <td>350000</td>\n",
              "      <td>0.0</td>\n",
              "      <td>0.0</td>\n",
              "      <td>0.0</td>\n",
              "      <td>0.0</td>\n",
              "    </tr>\n",
              "    <tr>\n",
              "      <th>14</th>\n",
              "      <td>2024</td>\n",
              "      <td>unitedhealth</td>\n",
              "      <td>Annual</td>\n",
              "      <td>400278.0</td>\n",
              "      <td>15242.0</td>\n",
              "      <td>298278.0</td>\n",
              "      <td>400000</td>\n",
              "      <td>0.0</td>\n",
              "      <td>0.0</td>\n",
              "      <td>0.0</td>\n",
              "      <td>0.0</td>\n",
              "    </tr>\n",
              "    <tr>\n",
              "      <th>15</th>\n",
              "      <td>2022</td>\n",
              "      <td>unitedhealth</td>\n",
              "      <td>Annual</td>\n",
              "      <td>324162.0</td>\n",
              "      <td>20120.0</td>\n",
              "      <td>245705.0</td>\n",
              "      <td>400000</td>\n",
              "      <td>0.0</td>\n",
              "      <td>0.0</td>\n",
              "      <td>0.0</td>\n",
              "      <td>0.0</td>\n",
              "    </tr>\n",
              "    <tr>\n",
              "      <th>16</th>\n",
              "      <td>2023</td>\n",
              "      <td>unitedhealth</td>\n",
              "      <td>Annual</td>\n",
              "      <td>371622.0</td>\n",
              "      <td>22381.0</td>\n",
              "      <td>273720.0</td>\n",
              "      <td>440000</td>\n",
              "      <td>0.0</td>\n",
              "      <td>0.0</td>\n",
              "      <td>0.0</td>\n",
              "      <td>0.0</td>\n",
              "    </tr>\n",
              "    <tr>\n",
              "      <th>17</th>\n",
              "      <td>2023</td>\n",
              "      <td>amgen</td>\n",
              "      <td>Sustainability</td>\n",
              "      <td>0.0</td>\n",
              "      <td>0.0</td>\n",
              "      <td>0.0</td>\n",
              "      <td>0</td>\n",
              "      <td>117000.0</td>\n",
              "      <td>48000.0</td>\n",
              "      <td>4100000.0</td>\n",
              "      <td>165000.0</td>\n",
              "    </tr>\n",
              "    <tr>\n",
              "      <th>18</th>\n",
              "      <td>2021</td>\n",
              "      <td>amgen</td>\n",
              "      <td>Sustainability</td>\n",
              "      <td>0.0</td>\n",
              "      <td>0.0</td>\n",
              "      <td>0.0</td>\n",
              "      <td>0</td>\n",
              "      <td>155000.0</td>\n",
              "      <td>0.0</td>\n",
              "      <td>0.0</td>\n",
              "      <td>155000.0</td>\n",
              "    </tr>\n",
              "    <tr>\n",
              "      <th>19</th>\n",
              "      <td>2020</td>\n",
              "      <td>amgen</td>\n",
              "      <td>Sustainability</td>\n",
              "      <td>0.0</td>\n",
              "      <td>0.0</td>\n",
              "      <td>0.0</td>\n",
              "      <td>0</td>\n",
              "      <td>138000.0</td>\n",
              "      <td>105000.0</td>\n",
              "      <td>2400000.0</td>\n",
              "      <td>2643000.0</td>\n",
              "    </tr>\n",
              "    <tr>\n",
              "      <th>20</th>\n",
              "      <td>2022</td>\n",
              "      <td>amgen</td>\n",
              "      <td>Sustainability</td>\n",
              "      <td>0.0</td>\n",
              "      <td>0.0</td>\n",
              "      <td>0.0</td>\n",
              "      <td>0</td>\n",
              "      <td>0.0</td>\n",
              "      <td>0.0</td>\n",
              "      <td>0.0</td>\n",
              "      <td>165000.0</td>\n",
              "    </tr>\n",
              "    <tr>\n",
              "      <th>21</th>\n",
              "      <td>2024</td>\n",
              "      <td>amgen</td>\n",
              "      <td>Sustainability</td>\n",
              "      <td>0.0</td>\n",
              "      <td>0.0</td>\n",
              "      <td>0.0</td>\n",
              "      <td>0</td>\n",
              "      <td>0.0</td>\n",
              "      <td>0.0</td>\n",
              "      <td>0.0</td>\n",
              "      <td>121000.0</td>\n",
              "    </tr>\n",
              "    <tr>\n",
              "      <th>22</th>\n",
              "      <td>2021</td>\n",
              "      <td>unitedhealth</td>\n",
              "      <td>Sustainability</td>\n",
              "      <td>0.0</td>\n",
              "      <td>0.0</td>\n",
              "      <td>0.0</td>\n",
              "      <td>0</td>\n",
              "      <td>97537.0</td>\n",
              "      <td>322472.0</td>\n",
              "      <td>88465.0</td>\n",
              "      <td>508474.0</td>\n",
              "    </tr>\n",
              "    <tr>\n",
              "      <th>23</th>\n",
              "      <td>2024</td>\n",
              "      <td>novartis</td>\n",
              "      <td>Sustainability</td>\n",
              "      <td>0.0</td>\n",
              "      <td>0.0</td>\n",
              "      <td>0.0</td>\n",
              "      <td>0</td>\n",
              "      <td>207000.0</td>\n",
              "      <td>30000.0</td>\n",
              "      <td>4350300.0</td>\n",
              "      <td>4587300.0</td>\n",
              "    </tr>\n",
              "    <tr>\n",
              "      <th>24</th>\n",
              "      <td>2023</td>\n",
              "      <td>novartis</td>\n",
              "      <td>Sustainability</td>\n",
              "      <td>0.0</td>\n",
              "      <td>0.0</td>\n",
              "      <td>0.0</td>\n",
              "      <td>0</td>\n",
              "      <td>248700.0</td>\n",
              "      <td>49400.0</td>\n",
              "      <td>4707900.0</td>\n",
              "      <td>5006000.0</td>\n",
              "    </tr>\n",
              "    <tr>\n",
              "      <th>25</th>\n",
              "      <td>2024</td>\n",
              "      <td>unitedhealth</td>\n",
              "      <td>Sustainability</td>\n",
              "      <td>0.0</td>\n",
              "      <td>0.0</td>\n",
              "      <td>0.0</td>\n",
              "      <td>0</td>\n",
              "      <td>105782.0</td>\n",
              "      <td>265661.0</td>\n",
              "      <td>17977601.0</td>\n",
              "      <td>18349044.0</td>\n",
              "    </tr>\n",
              "    <tr>\n",
              "      <th>26</th>\n",
              "      <td>2023</td>\n",
              "      <td>unitedhealth</td>\n",
              "      <td>Sustainability</td>\n",
              "      <td>0.0</td>\n",
              "      <td>0.0</td>\n",
              "      <td>0.0</td>\n",
              "      <td>0</td>\n",
              "      <td>139361.0</td>\n",
              "      <td>413101.0</td>\n",
              "      <td>18302644.0</td>\n",
              "      <td>18855106.0</td>\n",
              "    </tr>\n",
              "    <tr>\n",
              "      <th>27</th>\n",
              "      <td>2022</td>\n",
              "      <td>unitedhealth</td>\n",
              "      <td>Sustainability</td>\n",
              "      <td>0.0</td>\n",
              "      <td>0.0</td>\n",
              "      <td>0.0</td>\n",
              "      <td>0</td>\n",
              "      <td>122356.0</td>\n",
              "      <td>383896.0</td>\n",
              "      <td>13788578.0</td>\n",
              "      <td>14294830.0</td>\n",
              "    </tr>\n",
              "    <tr>\n",
              "      <th>28</th>\n",
              "      <td>2022</td>\n",
              "      <td>novartis</td>\n",
              "      <td>Sustainability</td>\n",
              "      <td>0.0</td>\n",
              "      <td>0.0</td>\n",
              "      <td>0.0</td>\n",
              "      <td>0</td>\n",
              "      <td>347200.0</td>\n",
              "      <td>154900.0</td>\n",
              "      <td>8770000.0</td>\n",
              "      <td>9272100.0</td>\n",
              "    </tr>\n",
              "    <tr>\n",
              "      <th>29</th>\n",
              "      <td>2019</td>\n",
              "      <td>novartis</td>\n",
              "      <td>Sustainability</td>\n",
              "      <td>0.0</td>\n",
              "      <td>0.0</td>\n",
              "      <td>0.0</td>\n",
              "      <td>0</td>\n",
              "      <td>483300.0</td>\n",
              "      <td>411900.0</td>\n",
              "      <td>205800.0</td>\n",
              "      <td>895100.0</td>\n",
              "    </tr>\n",
              "    <tr>\n",
              "      <th>30</th>\n",
              "      <td>2020</td>\n",
              "      <td>novartis</td>\n",
              "      <td>Sustainability</td>\n",
              "      <td>0.0</td>\n",
              "      <td>0.0</td>\n",
              "      <td>0.0</td>\n",
              "      <td>0</td>\n",
              "      <td>345000.0</td>\n",
              "      <td>443600.0</td>\n",
              "      <td>8900000.0</td>\n",
              "      <td>788600.0</td>\n",
              "    </tr>\n",
              "    <tr>\n",
              "      <th>31</th>\n",
              "      <td>2021</td>\n",
              "      <td>novartis</td>\n",
              "      <td>Sustainability</td>\n",
              "      <td>0.0</td>\n",
              "      <td>0.0</td>\n",
              "      <td>0.0</td>\n",
              "      <td>0</td>\n",
              "      <td>323500.0</td>\n",
              "      <td>323500.0</td>\n",
              "      <td>35500.0</td>\n",
              "      <td>682500.0</td>\n",
              "    </tr>\n",
              "    <tr>\n",
              "      <th>32</th>\n",
              "      <td>2020</td>\n",
              "      <td>unitedhealth</td>\n",
              "      <td>Sustainability</td>\n",
              "      <td>0.0</td>\n",
              "      <td>0.0</td>\n",
              "      <td>0.0</td>\n",
              "      <td>0</td>\n",
              "      <td>&lt;NA&gt;</td>\n",
              "      <td>&lt;NA&gt;</td>\n",
              "      <td>&lt;NA&gt;</td>\n",
              "      <td>&lt;NA&gt;</td>\n",
              "    </tr>\n",
              "  </tbody>\n",
              "</table>\n",
              "</div>\n",
              "    <div class=\"colab-df-buttons\">\n",
              "\n",
              "  <div class=\"colab-df-container\">\n",
              "    <button class=\"colab-df-convert\" onclick=\"convertToInteractive('df-de24cec6-1b9c-49c6-9eb4-f69321ecf5ca')\"\n",
              "            title=\"Convert this dataframe to an interactive table.\"\n",
              "            style=\"display:none;\">\n",
              "\n",
              "  <svg xmlns=\"http://www.w3.org/2000/svg\" height=\"24px\" viewBox=\"0 -960 960 960\">\n",
              "    <path d=\"M120-120v-720h720v720H120Zm60-500h600v-160H180v160Zm220 220h160v-160H400v160Zm0 220h160v-160H400v160ZM180-400h160v-160H180v160Zm440 0h160v-160H620v160ZM180-180h160v-160H180v160Zm440 0h160v-160H620v160Z\"/>\n",
              "  </svg>\n",
              "    </button>\n",
              "\n",
              "  <style>\n",
              "    .colab-df-container {\n",
              "      display:flex;\n",
              "      gap: 12px;\n",
              "    }\n",
              "\n",
              "    .colab-df-convert {\n",
              "      background-color: #E8F0FE;\n",
              "      border: none;\n",
              "      border-radius: 50%;\n",
              "      cursor: pointer;\n",
              "      display: none;\n",
              "      fill: #1967D2;\n",
              "      height: 32px;\n",
              "      padding: 0 0 0 0;\n",
              "      width: 32px;\n",
              "    }\n",
              "\n",
              "    .colab-df-convert:hover {\n",
              "      background-color: #E2EBFA;\n",
              "      box-shadow: 0px 1px 2px rgba(60, 64, 67, 0.3), 0px 1px 3px 1px rgba(60, 64, 67, 0.15);\n",
              "      fill: #174EA6;\n",
              "    }\n",
              "\n",
              "    .colab-df-buttons div {\n",
              "      margin-bottom: 4px;\n",
              "    }\n",
              "\n",
              "    [theme=dark] .colab-df-convert {\n",
              "      background-color: #3B4455;\n",
              "      fill: #D2E3FC;\n",
              "    }\n",
              "\n",
              "    [theme=dark] .colab-df-convert:hover {\n",
              "      background-color: #434B5C;\n",
              "      box-shadow: 0px 1px 3px 1px rgba(0, 0, 0, 0.15);\n",
              "      filter: drop-shadow(0px 1px 2px rgba(0, 0, 0, 0.3));\n",
              "      fill: #FFFFFF;\n",
              "    }\n",
              "  </style>\n",
              "\n",
              "    <script>\n",
              "      const buttonEl =\n",
              "        document.querySelector('#df-de24cec6-1b9c-49c6-9eb4-f69321ecf5ca button.colab-df-convert');\n",
              "      buttonEl.style.display =\n",
              "        google.colab.kernel.accessAllowed ? 'block' : 'none';\n",
              "\n",
              "      async function convertToInteractive(key) {\n",
              "        const element = document.querySelector('#df-de24cec6-1b9c-49c6-9eb4-f69321ecf5ca');\n",
              "        const dataTable =\n",
              "          await google.colab.kernel.invokeFunction('convertToInteractive',\n",
              "                                                    [key], {});\n",
              "        if (!dataTable) return;\n",
              "\n",
              "        const docLinkHtml = 'Like what you see? Visit the ' +\n",
              "          '<a target=\"_blank\" href=https://colab.research.google.com/notebooks/data_table.ipynb>data table notebook</a>'\n",
              "          + ' to learn more about interactive tables.';\n",
              "        element.innerHTML = '';\n",
              "        dataTable['output_type'] = 'display_data';\n",
              "        await google.colab.output.renderOutput(dataTable, element);\n",
              "        const docLink = document.createElement('div');\n",
              "        docLink.innerHTML = docLinkHtml;\n",
              "        element.appendChild(docLink);\n",
              "      }\n",
              "    </script>\n",
              "  </div>\n",
              "\n",
              "\n",
              "    <div id=\"df-ae636239-4e28-4ad4-83ed-6ff88a4434a1\">\n",
              "      <button class=\"colab-df-quickchart\" onclick=\"quickchart('df-ae636239-4e28-4ad4-83ed-6ff88a4434a1')\"\n",
              "                title=\"Suggest charts\"\n",
              "                style=\"display:none;\">\n",
              "\n",
              "<svg xmlns=\"http://www.w3.org/2000/svg\" height=\"24px\"viewBox=\"0 0 24 24\"\n",
              "     width=\"24px\">\n",
              "    <g>\n",
              "        <path d=\"M19 3H5c-1.1 0-2 .9-2 2v14c0 1.1.9 2 2 2h14c1.1 0 2-.9 2-2V5c0-1.1-.9-2-2-2zM9 17H7v-7h2v7zm4 0h-2V7h2v10zm4 0h-2v-4h2v4z\"/>\n",
              "    </g>\n",
              "</svg>\n",
              "      </button>\n",
              "\n",
              "<style>\n",
              "  .colab-df-quickchart {\n",
              "      --bg-color: #E8F0FE;\n",
              "      --fill-color: #1967D2;\n",
              "      --hover-bg-color: #E2EBFA;\n",
              "      --hover-fill-color: #174EA6;\n",
              "      --disabled-fill-color: #AAA;\n",
              "      --disabled-bg-color: #DDD;\n",
              "  }\n",
              "\n",
              "  [theme=dark] .colab-df-quickchart {\n",
              "      --bg-color: #3B4455;\n",
              "      --fill-color: #D2E3FC;\n",
              "      --hover-bg-color: #434B5C;\n",
              "      --hover-fill-color: #FFFFFF;\n",
              "      --disabled-bg-color: #3B4455;\n",
              "      --disabled-fill-color: #666;\n",
              "  }\n",
              "\n",
              "  .colab-df-quickchart {\n",
              "    background-color: var(--bg-color);\n",
              "    border: none;\n",
              "    border-radius: 50%;\n",
              "    cursor: pointer;\n",
              "    display: none;\n",
              "    fill: var(--fill-color);\n",
              "    height: 32px;\n",
              "    padding: 0;\n",
              "    width: 32px;\n",
              "  }\n",
              "\n",
              "  .colab-df-quickchart:hover {\n",
              "    background-color: var(--hover-bg-color);\n",
              "    box-shadow: 0 1px 2px rgba(60, 64, 67, 0.3), 0 1px 3px 1px rgba(60, 64, 67, 0.15);\n",
              "    fill: var(--button-hover-fill-color);\n",
              "  }\n",
              "\n",
              "  .colab-df-quickchart-complete:disabled,\n",
              "  .colab-df-quickchart-complete:disabled:hover {\n",
              "    background-color: var(--disabled-bg-color);\n",
              "    fill: var(--disabled-fill-color);\n",
              "    box-shadow: none;\n",
              "  }\n",
              "\n",
              "  .colab-df-spinner {\n",
              "    border: 2px solid var(--fill-color);\n",
              "    border-color: transparent;\n",
              "    border-bottom-color: var(--fill-color);\n",
              "    animation:\n",
              "      spin 1s steps(1) infinite;\n",
              "  }\n",
              "\n",
              "  @keyframes spin {\n",
              "    0% {\n",
              "      border-color: transparent;\n",
              "      border-bottom-color: var(--fill-color);\n",
              "      border-left-color: var(--fill-color);\n",
              "    }\n",
              "    20% {\n",
              "      border-color: transparent;\n",
              "      border-left-color: var(--fill-color);\n",
              "      border-top-color: var(--fill-color);\n",
              "    }\n",
              "    30% {\n",
              "      border-color: transparent;\n",
              "      border-left-color: var(--fill-color);\n",
              "      border-top-color: var(--fill-color);\n",
              "      border-right-color: var(--fill-color);\n",
              "    }\n",
              "    40% {\n",
              "      border-color: transparent;\n",
              "      border-right-color: var(--fill-color);\n",
              "      border-top-color: var(--fill-color);\n",
              "    }\n",
              "    60% {\n",
              "      border-color: transparent;\n",
              "      border-right-color: var(--fill-color);\n",
              "    }\n",
              "    80% {\n",
              "      border-color: transparent;\n",
              "      border-right-color: var(--fill-color);\n",
              "      border-bottom-color: var(--fill-color);\n",
              "    }\n",
              "    90% {\n",
              "      border-color: transparent;\n",
              "      border-bottom-color: var(--fill-color);\n",
              "    }\n",
              "  }\n",
              "</style>\n",
              "\n",
              "      <script>\n",
              "        async function quickchart(key) {\n",
              "          const quickchartButtonEl =\n",
              "            document.querySelector('#' + key + ' button');\n",
              "          quickchartButtonEl.disabled = true;  // To prevent multiple clicks.\n",
              "          quickchartButtonEl.classList.add('colab-df-spinner');\n",
              "          try {\n",
              "            const charts = await google.colab.kernel.invokeFunction(\n",
              "                'suggestCharts', [key], {});\n",
              "          } catch (error) {\n",
              "            console.error('Error during call to suggestCharts:', error);\n",
              "          }\n",
              "          quickchartButtonEl.classList.remove('colab-df-spinner');\n",
              "          quickchartButtonEl.classList.add('colab-df-quickchart-complete');\n",
              "        }\n",
              "        (() => {\n",
              "          let quickchartButtonEl =\n",
              "            document.querySelector('#df-ae636239-4e28-4ad4-83ed-6ff88a4434a1 button');\n",
              "          quickchartButtonEl.style.display =\n",
              "            google.colab.kernel.accessAllowed ? 'block' : 'none';\n",
              "        })();\n",
              "      </script>\n",
              "    </div>\n",
              "\n",
              "    </div>\n",
              "  </div>\n"
            ],
            "application/vnd.google.colaboratory.intrinsic+json": {
              "type": "dataframe",
              "variable_name": "df",
              "summary": "{\n  \"name\": \"df\",\n  \"rows\": 33,\n  \"fields\": [\n    {\n      \"column\": \"fiscal_year\",\n      \"properties\": {\n        \"dtype\": \"Int64\",\n        \"num_unique_values\": 6,\n        \"samples\": [\n          2019,\n          2021,\n          2024\n        ],\n        \"semantic_type\": \"\",\n        \"description\": \"\"\n      }\n    },\n    {\n      \"column\": \"company_name\",\n      \"properties\": {\n        \"dtype\": \"string\",\n        \"num_unique_values\": 3,\n        \"samples\": [\n          \"amgen\",\n          \"novartis\",\n          \"unitedhealth\"\n        ],\n        \"semantic_type\": \"\",\n        \"description\": \"\"\n      }\n    },\n    {\n      \"column\": \"report_type\",\n      \"properties\": {\n        \"dtype\": \"string\",\n        \"num_unique_values\": 2,\n        \"samples\": [\n          \"Sustainability\",\n          \"Annual\"\n        ],\n        \"semantic_type\": \"\",\n        \"description\": \"\"\n      }\n    },\n    {\n      \"column\": \"revenue_millions\",\n      \"properties\": {\n        \"dtype\": \"Float64\",\n        \"num_unique_values\": 18,\n        \"samples\": [\n          23400.0,\n          25979.0\n        ],\n        \"semantic_type\": \"\",\n        \"description\": \"\"\n      }\n    },\n    {\n      \"column\": \"net_income_millions\",\n      \"properties\": {\n        \"dtype\": \"Float64\",\n        \"num_unique_values\": 18,\n        \"samples\": [\n          7800.0,\n          5893.0\n        ],\n        \"semantic_type\": \"\",\n        \"description\": \"\"\n      }\n    },\n    {\n      \"column\": \"total_assets_millions\",\n      \"properties\": {\n        \"dtype\": \"Float64\",\n        \"num_unique_values\": 18,\n        \"samples\": [\n          59700.0,\n          61165.0\n        ],\n        \"semantic_type\": \"\",\n        \"description\": \"\"\n      }\n    },\n    {\n      \"column\": \"employee_count\",\n      \"properties\": {\n        \"dtype\": \"Int64\",\n        \"num_unique_values\": 17,\n        \"samples\": [\n          23400,\n          24200\n        ],\n        \"semantic_type\": \"\",\n        \"description\": \"\"\n      }\n    },\n    {\n      \"column\": \"scope_1_ghg_emissions\",\n      \"properties\": {\n        \"dtype\": \"Float64\",\n        \"num_unique_values\": 14,\n        \"samples\": [\n          122356.0,\n          483300.0\n        ],\n        \"semantic_type\": \"\",\n        \"description\": \"\"\n      }\n    },\n    {\n      \"column\": \"scope_2_ghg_emissions\",\n      \"properties\": {\n        \"dtype\": \"Float64\",\n        \"num_unique_values\": 13,\n        \"samples\": [\n          443600.0,\n          154900.0\n        ],\n        \"semantic_type\": \"\",\n        \"description\": \"\"\n      }\n    },\n    {\n      \"column\": \"scope_3_ghg_emissions\",\n      \"properties\": {\n        \"dtype\": \"Float64\",\n        \"num_unique_values\": 13,\n        \"samples\": [\n          8900000.0,\n          8770000.0\n        ],\n        \"semantic_type\": \"\",\n        \"description\": \"\"\n      }\n    },\n    {\n      \"column\": \"total_ghg_emissions\",\n      \"properties\": {\n        \"dtype\": \"Float64\",\n        \"num_unique_values\": 15,\n        \"samples\": [\n          18855106.0,\n          9272100.0\n        ],\n        \"semantic_type\": \"\",\n        \"description\": \"\"\n      }\n    }\n  ]\n}"
            }
          },
          "metadata": {},
          "execution_count": 63
        }
      ]
    },
    {
      "cell_type": "markdown",
      "source": [
        "# All the plots below, were auto generated by Colab Auto Gen feature - on a dataframe!"
      ],
      "metadata": {
        "id": "SLnu4VEiOG_Z"
      },
      "id": "SLnu4VEiOG_Z"
    },
    {
      "cell_type": "markdown",
      "metadata": {
        "id": "e1ced445"
      },
      "source": [
        "# Task\n",
        "Analyze the provided dataframe `df` to extract insights across companies by analyzing and visualizing key financial and ESG metrics."
      ],
      "id": "e1ced445"
    },
    {
      "cell_type": "markdown",
      "metadata": {
        "id": "b8ed8d1a"
      },
      "source": [
        "## Analyze net income\n",
        "\n",
        "### Subtask:\n",
        "Visualize and compare the net income trends across companies over the available years.\n"
      ],
      "id": "b8ed8d1a"
    },
    {
      "cell_type": "markdown",
      "metadata": {
        "id": "35557628"
      },
      "source": [
        "**Reasoning**:\n",
        "Filter the dataframe to include only annual reports and then group by company and fiscal year to calculate the sum of net income. This prepares the data for plotting the net income trend across companies.\n",
        "\n"
      ],
      "id": "35557628"
    },
    {
      "cell_type": "code",
      "metadata": {
        "id": "bf2a4bf8",
        "colab": {
          "base_uri": "https://localhost:8080/",
          "height": 52
        },
        "outputId": "628583ed-56d8-4e2e-c372-caf5cbccca93"
      },
      "source": [
        "# Filter only annual reports\n",
        "df_filtered = df_metrics[df_metrics[\"report_type\"].str.lower() == \"annual\"]\n",
        "\n",
        "# Group by company and year\n",
        "df_grouped = df_filtered.groupby([\"company_name\", \"fiscal_year\"])[\n",
        "    \"net_income_millions\"\n",
        "].sum().reset_index()\n",
        "\n",
        "# Get unique values\n",
        "companies = df_grouped[\"company_name\"].unique().tolist()\n",
        "years = sorted(df_grouped[\"fiscal_year\"].unique())\n",
        "companies"
      ],
      "id": "bf2a4bf8",
      "execution_count": 64,
      "outputs": [
        {
          "output_type": "display_data",
          "data": {
            "text/plain": [
              "<IPython.core.display.HTML object>"
            ],
            "text/html": [
              "Load job 02c6c4fa-e094-45fd-8078-13e5b51f5139 is DONE. <a target=\"_blank\" href=\"https://console.cloud.google.com/bigquery?project=intellitrend-project-dev&j=bq:US:02c6c4fa-e094-45fd-8078-13e5b51f5139&page=queryresults\">Open Job</a>"
            ]
          },
          "metadata": {}
        },
        {
          "output_type": "execute_result",
          "data": {
            "text/plain": [
              "['amgen', 'novartis', 'unitedhealth']"
            ]
          },
          "metadata": {},
          "execution_count": 64
        }
      ]
    },
    {
      "cell_type": "markdown",
      "metadata": {
        "id": "49e90af4"
      },
      "source": [
        "**Reasoning**:\n",
        "Plot the grouped bar chart for net income comparison across companies using the processed data, following the remaining instructions for plotting and labeling.\n",
        "\n"
      ],
      "id": "49e90af4"
    },
    {
      "cell_type": "code",
      "metadata": {
        "colab": {
          "base_uri": "https://localhost:8080/",
          "height": 564
        },
        "id": "083fee6d",
        "outputId": "b1d018fd-0c26-425c-f434-298445e9af1c"
      },
      "source": [
        "# Set bar width\n",
        "bar_width = 0.15\n",
        "x = np.arange(len(years))  # positions for fiscal years\n",
        "\n",
        "plt.figure(figsize=(12,6))\n",
        "\n",
        "# Plot each company’s bars\n",
        "for i, company in enumerate(companies):\n",
        "    company_data = df_grouped[df_grouped[\"company_name\"] == company]\n",
        "    net_incomes = [company_data[company_data[\"fiscal_year\"] == y][\"net_income_millions\"].sum() for y in years]\n",
        "    plt.bar(x + i*bar_width, net_incomes, width=bar_width, label=f\"{company} Net Income\")\n",
        "\n",
        "plt.xticks(x + bar_width*(len(companies)-1)/2, years)\n",
        "plt.xlabel(\"Fiscal Year\")\n",
        "plt.ylabel(\"£ Millions\")\n",
        "plt.title(\"Net Income Comparison Across Companies\")\n",
        "plt.legend()\n",
        "plt.show()"
      ],
      "id": "083fee6d",
      "execution_count": 65,
      "outputs": [
        {
          "output_type": "display_data",
          "data": {
            "text/plain": [
              "<Figure size 1200x600 with 1 Axes>"
            ],
            "image/png": "[encoded data removed]"
          },
          "metadata": {}
        }
      ]
    },
    {
      "cell_type": "markdown",
      "metadata": {
        "id": "0bdbb832"
      },
      "source": [
        "## Analyze total assets\n",
        "\n",
        "### Subtask:\n",
        "Visualize and compare the total assets of each company over time to understand their growth and scale.\n"
      ],
      "id": "0bdbb832"
    },
    {
      "cell_type": "markdown",
      "metadata": {
        "id": "a5db3858"
      },
      "source": [
        "**Reasoning**:\n",
        "Filter the dataframe to include only annual reports and group by company and fiscal year to calculate the sum of total assets.\n",
        "\n"
      ],
      "id": "a5db3858"
    },
    {
      "cell_type": "code",
      "metadata": {
        "id": "7d0eb005"
      },
      "source": [
        "# Filter only annual reports\n",
        "df_filtered = df_metrics[df_metrics[\"report_type\"].str.lower() == \"annual\"]\n",
        "\n",
        "# Group by company and year\n",
        "df_grouped = df_filtered.groupby([\"company_name\", \"fiscal_year\"])[\n",
        "    \"total_assets_millions\"\n",
        "].sum().reset_index()"
      ],
      "id": "7d0eb005",
      "execution_count": 66,
      "outputs": []
    },
    {
      "cell_type": "markdown",
      "metadata": {
        "id": "b8f0b19b"
      },
      "source": [
        "**Reasoning**:\n",
        "Get the unique company names and sorted fiscal years from the grouped dataframe and set up the plotting parameters.\n",
        "\n"
      ],
      "id": "b8f0b19b"
    },
    {
      "cell_type": "code",
      "metadata": {
        "id": "96c73ffe"
      },
      "source": [
        "# Get unique values\n",
        "companies = df_grouped[\"company_name\"].unique().tolist()\n",
        "years = sorted(df_grouped[\"fiscal_year\"].unique())\n",
        "\n",
        "# Set bar width\n",
        "bar_width = 0.15\n",
        "x = np.arange(len(years))  # positions for fiscal years"
      ],
      "id": "96c73ffe",
      "execution_count": 67,
      "outputs": []
    },
    {
      "cell_type": "markdown",
      "metadata": {
        "id": "af5c47d3"
      },
      "source": [
        "**Reasoning**:\n",
        "Plot a grouped bar chart to visualize the total assets for each company across the fiscal years.\n",
        "\n"
      ],
      "id": "af5c47d3"
    },
    {
      "cell_type": "code",
      "metadata": {
        "colab": {
          "base_uri": "https://localhost:8080/",
          "height": 564
        },
        "id": "39c3702a",
        "outputId": "8329bca4-a612-4e11-cc2e-17d5b0414a56"
      },
      "source": [
        "plt.figure(figsize=(12,6))\n",
        "\n",
        "# Plot each company’s bars\n",
        "for i, company in enumerate(companies):\n",
        "    company_data = df_grouped[df_grouped[\"company_name\"] == company]\n",
        "    total_assets = [company_data[company_data[\"fiscal_year\"] == y][\"total_assets_millions\"].sum() for y in years]\n",
        "    plt.bar(x + i*bar_width, total_assets, width=bar_width, label=f\"{company} Total Assets\")\n",
        "\n",
        "plt.xticks(x + bar_width*(len(companies)-1)/2, years)  # Center ticks\n",
        "plt.xlabel(\"Fiscal Year\")\n",
        "plt.ylabel(\"£ Millions\")\n",
        "plt.title(\"Total Assets Comparison Across Companies\")\n",
        "plt.legend()\n",
        "plt.show()"
      ],
      "id": "39c3702a",
      "execution_count": 68,
      "outputs": [
        {
          "output_type": "display_data",
          "data": {
            "text/plain": [
              "<Figure size 1200x600 with 1 Axes>"
            ],
            "image/png": "[encoded data removed]"
          },
          "metadata": {}
        }
      ]
    },
    {
      "cell_type": "markdown",
      "metadata": {
        "id": "7edf1ecb"
      },
      "source": [
        "## Analyze employee count\n",
        "\n",
        "### Subtask:\n",
        "Compare the employee counts across companies to understand their workforce size.\n"
      ],
      "id": "7edf1ecb"
    },
    {
      "cell_type": "markdown",
      "metadata": {
        "id": "3c93e0cb"
      },
      "source": [
        "**Reasoning**:\n",
        "Filter the DataFrame to include only annual reports and group by company and fiscal year to get the sum of employee counts.\n",
        "\n"
      ],
      "id": "3c93e0cb"
    },
    {
      "cell_type": "code",
      "metadata": {
        "id": "b0c3e892"
      },
      "source": [
        "# Filter only annual reports\n",
        "df_filtered_employees = df_metrics[df_metrics[\"report_type\"].str.lower() == \"annual\"]\n",
        "\n",
        "# Group by company and year\n",
        "df_grouped_employees = df_filtered_employees.groupby([\"company_name\", \"fiscal_year\"])[\n",
        "    \"employee_count\"\n",
        "].sum().reset_index()"
      ],
      "id": "b0c3e892",
      "execution_count": 69,
      "outputs": []
    },
    {
      "cell_type": "markdown",
      "metadata": {
        "id": "caa1af2f"
      },
      "source": [
        "**Reasoning**:\n",
        "Get the unique company names and sorted fiscal years, then create a bar chart to visualize the employee count for each company across the fiscal years, setting the labels and title as specified in the instructions.\n",
        "\n"
      ],
      "id": "caa1af2f"
    },
    {
      "cell_type": "code",
      "metadata": {
        "colab": {
          "base_uri": "https://localhost:8080/",
          "height": 564
        },
        "id": "83a77263",
        "outputId": "a1962ea2-b1c0-45ab-ad1b-8ca133001267"
      },
      "source": [
        "# Get unique values\n",
        "companies_employees = df_grouped_employees[\"company_name\"].unique().tolist()\n",
        "years_employees = sorted(df_grouped_employees[\"fiscal_year\"].unique())\n",
        "\n",
        "# Set bar width\n",
        "bar_width_employees = 0.15\n",
        "x_employees = np.arange(len(years_employees))  # positions for fiscal years\n",
        "\n",
        "plt.figure(figsize=(12,6))\n",
        "\n",
        "# Plot each company’s bars\n",
        "for i, company in enumerate(companies_employees):\n",
        "    company_data = df_grouped_employees[df_grouped_employees[\"company_name\"] == company]\n",
        "    employee_counts = [company_data[company_data[\"fiscal_year\"] == y][\"employee_count\"].sum() for y in years_employees]\n",
        "    plt.bar(x_employees + i*bar_width_employees, employee_counts, width=bar_width_employees, label=f\"{company} Employee Count\")\n",
        "\n",
        "plt.xticks(x_employees + bar_width_employees*(len(companies_employees)-1)/2, years_employees)  # Center ticks\n",
        "plt.xlabel(\"Fiscal Year\")\n",
        "plt.ylabel(\"Employee Count\")\n",
        "plt.title(\"Employee Count Comparison Across Companies\")\n",
        "plt.legend()\n",
        "plt.show()"
      ],
      "id": "83a77263",
      "execution_count": 70,
      "outputs": [
        {
          "output_type": "display_data",
          "data": {
            "text/plain": [
              "<Figure size 1200x600 with 1 Axes>"
            ],
            "image/png": "[encoded data removed]"
          },
          "metadata": {}
        }
      ]
    },
    {
      "cell_type": "markdown",
      "metadata": {
        "id": "566a573b"
      },
      "source": [
        "## Analyze esg metrics (ghg emissions)\n",
        "\n",
        "### Subtask:\n",
        "Visualize and compare the Scope 1, Scope 2, Scope 3, and Total GHG emissions for companies that have sustainability reports available.\n"
      ],
      "id": "566a573b"
    },
    {
      "cell_type": "markdown",
      "metadata": {
        "id": "7efbb752"
      },
      "source": [
        "**Reasoning**:\n",
        "Filter the DataFrame to include only sustainability reports and then group by company and fiscal year to sum the GHG emissions columns.\n",
        "\n"
      ],
      "id": "7efbb752"
    },
    {
      "cell_type": "code",
      "metadata": {
        "id": "225cfcc1"
      },
      "source": [
        "# Filter only sustainability reports\n",
        "df_filtered_esg = df_metrics[df_metrics[\"report_type\"].str.lower() == \"sustainability\"]\n",
        "\n",
        "# Group by company and year and sum GHG emission columns\n",
        "df_grouped_esg = df_filtered_esg.groupby([\"company_name\", \"fiscal_year\"])[\n",
        "    [\"scope_1_ghg_emissions\", \"scope_2_ghg_emissions\", \"scope_3_ghg_emissions\", \"total_ghg_emissions\"]\n",
        "].sum().reset_index()"
      ],
      "id": "225cfcc1",
      "execution_count": 71,
      "outputs": []
    },
    {
      "cell_type": "markdown",
      "metadata": {
        "id": "c3ec894a"
      },
      "source": [
        "**Reasoning**:\n",
        "Get the unique company names and sorted fiscal years from the grouped ESG data and then iterate through each company to create a multi-line plot for their GHG emissions over the years.\n",
        "\n"
      ],
      "id": "c3ec894a"
    },
    {
      "cell_type": "code",
      "metadata": {
        "colab": {
          "base_uri": "https://localhost:8080/",
          "height": 1000
        },
        "id": "722132b6",
        "outputId": "98564da1-2562-45e2-8ce6-a57edd900561"
      },
      "source": [
        "# Get unique values\n",
        "companies_esg = df_grouped_esg[\"company_name\"].unique().tolist()\n",
        "years_esg = sorted(df_grouped_esg[\"fiscal_year\"].unique())\n",
        "\n",
        "# Plot GHG emissions for each company\n",
        "for company in companies_esg:\n",
        "    company_data_esg = df_grouped_esg[df_grouped_esg[\"company_name\"] == company]\n",
        "\n",
        "    plt.figure(figsize=(12, 6))\n",
        "    plt.plot(company_data_esg[\"fiscal_year\"], company_data_esg[\"scope_1_ghg_emissions\"], marker=\"o\", label=\"Scope 1 GHG Emissions\")\n",
        "    plt.plot(company_data_esg[\"fiscal_year\"], company_data_esg[\"scope_2_ghg_emissions\"], marker=\"o\", label=\"Scope 2 GHG Emissions\")\n",
        "    plt.plot(company_data_esg[\"fiscal_year\"], company_data_esg[\"scope_3_ghg_emissions\"], marker=\"o\", label=\"Scope 3 GHG Emissions\")\n",
        "    plt.plot(company_data_esg[\"fiscal_year\"], company_data_esg[\"total_ghg_emissions\"], marker=\"o\", label=\"Total GHG Emissions\")\n",
        "\n",
        "    plt.xlabel(\"Fiscal Year\")\n",
        "    plt.ylabel(\"GHG Emissions (tonnes)\")\n",
        "    plt.title(f\"GHG Emissions Trends for {company}\")\n",
        "    plt.legend()\n",
        "    plt.grid(True)\n",
        "    plt.show()"
      ],
      "id": "722132b6",
      "execution_count": 72,
      "outputs": [
        {
          "output_type": "display_data",
          "data": {
            "text/plain": [
              "<Figure size 1200x600 with 1 Axes>"
            ],
            "image/png": "[encoded data removed]"
          },
          "metadata": {}
        },
        {
          "output_type": "display_data",
          "data": {
            "text/plain": [
              "<Figure size 1200x600 with 1 Axes>"
            ],
            "image/png": "[encoded data removed]"
          },
          "metadata": {}
        },
        {
          "output_type": "display_data",
          "data": {
            "text/plain": [
              "<Figure size 1200x600 with 1 Axes>"
            ],
            "image/png": "[encoded data removed]"
          },
          "metadata": {}
        }
      ]
    }
  ],
  "metadata": {
    "language_info": {
      "name": "python"
    },
    "colab": {
      "provenance": [],
      "gpuType": "T4",
      "include_colab_link": true
    },
    "kernelspec": {
      "name": "python3",
      "display_name": "Python 3"
    },
    "accelerator": "GPU"
  },
  "nbformat": 4,
  "nbformat_minor": 5
}